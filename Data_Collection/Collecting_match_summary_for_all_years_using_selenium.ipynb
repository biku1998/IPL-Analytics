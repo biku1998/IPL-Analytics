{
 "cells": [
  {
   "cell_type": "code",
   "execution_count": 21,
   "metadata": {},
   "outputs": [],
   "source": [
    "path = \"C:/chromedriver_win32/chromedriver.exe\"\n",
    "\n",
    "from selenium import webdriver\n",
    "from selenium.webdriver.support.ui import Select\n",
    "from selenium.webdriver.chrome.options import Options\n",
    "import pandas as pd\n",
    "from tqdm import tqdm"
   ]
  },
  {
   "cell_type": "code",
   "execution_count": 22,
   "metadata": {},
   "outputs": [
    {
     "name": "stderr",
     "output_type": "stream",
     "text": [
      "  0%|                                                                                        | 0/12 [00:00<?, ?it/s]C:\\Users\\Sourabh\\Anaconda3\\lib\\site-packages\\pandas\\core\\frame.py:6692: FutureWarning: Sorting because non-concatenation axis is not aligned. A future version\n",
      "of pandas will change to not sort by default.\n",
      "\n",
      "To accept the future behavior, pass 'sort=False'.\n",
      "\n",
      "To retain the current behavior and silence the warning, pass 'sort=True'.\n",
      "\n",
      "  sort=sort)\n",
      "100%|███████████████████████████████████████████████████████████████████████████████| 12/12 [01:10<00:00,  5.75s/it]\n"
     ]
    }
   ],
   "source": [
    "master_df = pd.DataFrame(columns = ['Team','Short Name','Abbrev','Played','Won','Lost','N/R'])\n",
    "\n",
    "years = ['2008','2009','2010','2011','2012','2013','2014','2015','2016','2017','2018','2019']\n",
    "\n",
    "url = 'http://www.howstat.com/cricket/Statistics/IPL/TeamList.asp?s=2019'\n",
    "\n",
    "for year in tqdm(years):\n",
    "    driver = webdriver.Chrome(path)\n",
    "    driver.get(url)\n",
    "\n",
    "    select = Select(driver.find_element_by_name('cboSeason'))\n",
    "\n",
    "    # select by value \n",
    "    select.select_by_value(year)\n",
    "\n",
    "    # get the table\n",
    "    table = driver.find_element_by_class_name('TableLined').get_attribute('outerHTML')\n",
    "\n",
    "    df = pd.read_html(table)[0]\n",
    "    df.drop(0,axis = 1,inplace = True)\n",
    "    df.columns = df.iloc[0]\n",
    "    df.drop(0,inplace = True)\n",
    "    df.drop(df.shape[0],inplace = True)\n",
    "    df['year'] = int(year)\n",
    "    master_df = master_df.append(df)\n",
    "    \n",
    "    driver.close()\n",
    "    \n"
   ]
  },
  {
   "cell_type": "code",
   "execution_count": 25,
   "metadata": {},
   "outputs": [],
   "source": [
    "master_df.to_csv('E:/Google_Drive_Contents/data/All_IPL_team_summary.csv',index= False)"
   ]
  },
  {
   "cell_type": "code",
   "execution_count": null,
   "metadata": {},
   "outputs": [],
   "source": []
  }
 ],
 "metadata": {
  "kernelspec": {
   "display_name": "Python 3",
   "language": "python",
   "name": "python3"
  },
  "language_info": {
   "codemirror_mode": {
    "name": "ipython",
    "version": 3
   },
   "file_extension": ".py",
   "mimetype": "text/x-python",
   "name": "python",
   "nbconvert_exporter": "python",
   "pygments_lexer": "ipython3",
   "version": "3.7.3"
  }
 },
 "nbformat": 4,
 "nbformat_minor": 2
}
