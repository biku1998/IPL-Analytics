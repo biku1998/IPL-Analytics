{
 "cells": [
  {
   "cell_type": "code",
   "execution_count": 1,
   "metadata": {
    "colab": {},
    "colab_type": "code",
    "id": "ytnNCOwSR0zv"
   },
   "outputs": [],
   "source": [
    "import requests\n",
    "import pandas as pd\n",
    "from bs4 import BeautifulSoup\n",
    "\n",
    "pd.options.display.max_columns = 500\n",
    "pd.options.display.max_rows = 500\n",
    "from tqdm import tqdm_notebook as tqdm\n",
    "import traceback\n",
    "\n",
    "import json"
   ]
  },
  {
   "cell_type": "code",
   "execution_count": null,
   "metadata": {
    "colab": {
     "base_uri": "https://localhost:8080/",
     "height": 124
    },
    "colab_type": "code",
    "executionInfo": {
     "elapsed": 25474,
     "status": "ok",
     "timestamp": 1582467063082,
     "user": {
      "displayName": "SOURABH KUMAR",
      "photoUrl": "https://lh3.googleusercontent.com/a-/AAuE7mC_FMW1szJB5cImAhe9VqykK4aQlayAQVAoZlq4wg=s64",
      "userId": "05670567564810889409"
     },
     "user_tz": -330
    },
    "id": "ULLFFsOhYpcE",
    "outputId": "bdc1b80f-cfab-436b-ef3d-6e43e6d2f522"
   },
   "outputs": [],
   "source": []
  },
  {
   "cell_type": "code",
   "execution_count": null,
   "metadata": {
    "colab": {},
    "colab_type": "code",
    "id": "0yyzhBVilHQr"
   },
   "outputs": [],
   "source": [
    "def fetch_player_data(years):\n",
    "    \"\"\" \n",
    "    This function will be used to fetch player performance data for T20 matches\n",
    "    parameters :\n",
    "    year : years of ipl(will be list)\n",
    "    \"\"\"\n",
    "    universal_link_set = set()\n",
    "    # universal_link_set_bowl = set()\n",
    "\n",
    "    Base_URL = [\"http://stats.espncricinfo.com/ci/engine/records/team/match_results.html?id=\",\";trophy=117;type=season\"]\n",
    "    if isinstance(years,list) == False or len(years) == 0:\n",
    "        raise ValueError('Etiher the year is not passed in a list or the list is empty')\n",
    "\n",
    "    player_data_Json_list = [] # store all the data of the player\n",
    "\n",
    "    try:\n",
    "\n",
    "\n",
    "        # loop for all the years\n",
    "        for year in years:\n",
    "            # build the URL\n",
    "            url = str(year).join(Base_URL)\n",
    "\n",
    "            print(f'Collecting player data for year {year}....')\n",
    "\n",
    "            # First we have to parse the batting-bowling data page link from the starter page i.e url\n",
    "\n",
    "            # Approach : i will first collect all the links present in that table\n",
    "            #            then filter the links which will lead us to players info data page.\n",
    "            # hurdles : in the table a particular row contains 5 links all with same class name.\n",
    "\n",
    "            source = requests.get(url).text\n",
    "\n",
    "            soup = BeautifulSoup(source, 'lxml') \n",
    "\n",
    "            data_table = soup.find('table','engineTable')\n",
    "\n",
    "            link_all = data_table.find_all('a','data-link')\n",
    "\n",
    "            useful_links = []\n",
    "            link_base = \"http://stats.espncricinfo.com\"\n",
    "\n",
    "            for link in link_all:\n",
    "                href = str(link['href'])\n",
    "                if \"/ci/engine/match/\" in href:\n",
    "                    useful_links.append(link_base+href)\n",
    "\n",
    "            \n",
    "            for link in tqdm(useful_links):\n",
    "\n",
    "                source = requests.get(link).text\n",
    "\n",
    "                soup = BeautifulSoup(source, 'lxml')\n",
    "\n",
    "                main_div = soup.find('div','col-b')\n",
    "\n",
    "                ###############################################################################################\n",
    "\n",
    "                ############# Now we will Scrape ScoreCards i.e bating and bowling performance for each team #######################\n",
    "\n",
    "\n",
    "                score_cards = main_div.find_all('article','sub-module scorecard')\n",
    "\n",
    "                # above score_cards contain 2 score_card i.e. each team\n",
    "\n",
    "                batsmen_links = []\n",
    "                bowler_links = []\n",
    "\n",
    "                for sc in score_cards:\n",
    "                  batsmen_div = sc.find('div','scorecard-section batsmen')\n",
    "                  bowler_div =  sc.find('div','scorecard-section bowling')\n",
    "\n",
    "                  if batsmen_div is None:\n",
    "                      continue\n",
    "                  if bowler_div is None:\n",
    "                      continue\n",
    "\n",
    "                  \"\"\"\n",
    "                  we will collecte all the links that will lead to batsmen and bowler from the batasmen and bowler scorecard div.\n",
    "                  Then we will scrape all the data needed for player analysis for their T20 performance\n",
    "                  \"\"\"\n",
    "                  \n",
    "                  b_links = batsmen_div.find_all('a')\n",
    "                  bow_links = bowler_div.find_all('a')\n",
    "\n",
    "                  if b_links is None:\n",
    "                      continue\n",
    "                  if bow_links is None:\n",
    "                      continue\n",
    "\n",
    "                  for b in b_links:\n",
    "                    try:\n",
    "                     if 'html' in b['href'] and b['href'] not in b_links:\n",
    "                       batsmen_links.append(b['href'])\n",
    "                    except:\n",
    "                        continue\n",
    "                   \n",
    "                  for bo in bow_links:\n",
    "                    try:\n",
    "                     if 'html' in bo['href'] and bo['href'] not in bow_links:\n",
    "                       bowler_links.append(bo['href'])\n",
    "                    except:\n",
    "                        continue\n",
    "                 \n",
    "                \n",
    "\n",
    "                # Now that we have all the links avaliable to us for both batsmen and bowler\n",
    "                # let's scrape their information and put it dataframes\n",
    "\n",
    "                ## ** Scraping batsmen data from batsmen's link list\n",
    "\n",
    "                full_list = batsmen_links + bowler_links\n",
    "\n",
    "                \n",
    "\n",
    "                for link in full_list:\n",
    "                    if link not in universal_link_set:\n",
    "\n",
    "                        source = requests.get(link).text\n",
    "                        soup = BeautifulSoup(source, 'lxml')\n",
    "\n",
    "                        main_div = soup.find('div','pnl490M')\n",
    "\n",
    "                        if main_div is None:\n",
    "                            continue\n",
    "\n",
    "                        temp_div = main_div.find_all('div')[2]\n",
    "\n",
    "                        if temp_div is None:\n",
    "                            continue\n",
    "\n",
    "                        player_info_div = temp_div.find_all('div')[0]\n",
    "\n",
    "                        if player_info_div is None:\n",
    "                            continue\n",
    "\n",
    "                        player_info_p = player_info_div.find_all('p','ciPlayerinformationtxt')\n",
    "\n",
    "                        if player_info_p is None:\n",
    "                            continue\n",
    "\n",
    "                        player_obj = dict()\n",
    "\n",
    "                        for player in player_info_p:\n",
    "                            # print(player.find('b').text,player.find('span').text)\n",
    "                            player_obj[player.find('b').text.strip()] = player.find('span').text.strip()\n",
    "                        # print(player_obj)\n",
    "\n",
    "                        player_data_Json_list.append(player_obj)\n",
    "\n",
    "                        # print(player_data_Json_list)\n",
    "                        universal_link_set.add(link)\n",
    "\n",
    "\n",
    "\n",
    "        return player_data_Json_list\n",
    "\n",
    "   \n",
    "\n",
    "    except Exception:\n",
    "       traceback.print_exc()"
   ]
  },
  {
   "cell_type": "code",
   "execution_count": 52,
   "metadata": {
    "colab": {
     "base_uri": "https://localhost:8080/",
     "height": 214,
     "referenced_widgets": [
      "3c2c6f5eeb104dbda17b9151f325accc",
      "a07a0638c49b47289962919d8e0cc7dc",
      "4fc7308d41734279aa51c18f3e589e06",
      "02940eb11ba34ae4b633928813b1d854",
      "f9f316460e8845adb8536e593ac2e629",
      "625ab1e59b814e8281f9177729592b46",
      "de1bf511c4484c68a90403636d93ef63",
      "a14a520fb20a47748ce6ba77ef29526e",
      "50f21e24cb594f47bd2d09c721849b3b",
      "51da691e907042d1a86a54d2ea84c5ec",
      "128b1160f0614996828e3ef05f5e9641",
      "5dd4b5e44f0d4dc68efe8c3857cb4cb4",
      "036cb97f5d3e423ca7bea59eb3793075",
      "eb46744172a048c5bb436431f7b14f5c",
      "80ee75183afa4d30bf746124dfece64d",
      "f341dfb0c3e94ba1b7e443696ac8e378",
      "329cfe11452b4b86a7901a4fd80c3df3",
      "ff5173ac1e93418d91372b91293a5430",
      "5df491f5dd884519be3d9e63a6ac473e",
      "e95f683a3a2f451da9edd2dea1ae6230",
      "5aed9c4a691149379a9b9261b96a0260",
      "a8be88f2299446de81af459cc90f6348",
      "4bea2fd3a27a4e07aafc76113c808862",
      "21cefe1ee1a246d39a9cd14d40f400b2",
      "2150140b5a6f4d6dab82ad1ec4735f82",
      "1cfe7236e3fe46d58eb284aacb97a1dd",
      "f491f26664014f029690a506e8666659",
      "c08209bcfd7743f8ade15db6ae076c72",
      "892041c8229e46d5becf63133e416535",
      "848f18e3da8a4494b610d23947623926",
      "521668a6d0fd40518f4c1eb04b1419cd",
      "ae195a8e5b214ffbb81427ff682df1d1"
     ]
    },
    "colab_type": "code",
    "executionInfo": {
     "elapsed": 608649,
     "status": "ok",
     "timestamp": 1582482378871,
     "user": {
      "displayName": "SOURABH KUMAR",
      "photoUrl": "https://lh3.googleusercontent.com/a-/AAuE7mC_FMW1szJB5cImAhe9VqykK4aQlayAQVAoZlq4wg=s64",
      "userId": "05670567564810889409"
     },
     "user_tz": -330
    },
    "id": "j-XGTo8Ptlfy",
    "outputId": "fab99b5d-f198-45bc-854f-fe2dfce9270d"
   },
   "outputs": [
    {
     "name": "stdout",
     "output_type": "stream",
     "text": [
      "Collecting player data for year 2009....\n"
     ]
    },
    {
     "data": {
      "application/vnd.jupyter.widget-view+json": {
       "model_id": "3c2c6f5eeb104dbda17b9151f325accc",
       "version_major": 2,
       "version_minor": 0
      },
      "text/plain": [
       "HBox(children=(IntProgress(value=0, max=59), HTML(value='')))"
      ]
     },
     "metadata": {
      "tags": []
     },
     "output_type": "display_data"
    },
    {
     "name": "stdout",
     "output_type": "stream",
     "text": [
      "Collecting player data for year 2011....\n"
     ]
    },
    {
     "data": {
      "application/vnd.jupyter.widget-view+json": {
       "model_id": "50f21e24cb594f47bd2d09c721849b3b",
       "version_major": 2,
       "version_minor": 0
      },
      "text/plain": [
       "HBox(children=(IntProgress(value=0, max=74), HTML(value='')))"
      ]
     },
     "metadata": {
      "tags": []
     },
     "output_type": "display_data"
    },
    {
     "name": "stdout",
     "output_type": "stream",
     "text": [
      "Collecting player data for year 2012....\n"
     ]
    },
    {
     "data": {
      "application/vnd.jupyter.widget-view+json": {
       "model_id": "329cfe11452b4b86a7901a4fd80c3df3",
       "version_major": 2,
       "version_minor": 0
      },
      "text/plain": [
       "HBox(children=(IntProgress(value=0, max=76), HTML(value='')))"
      ]
     },
     "metadata": {
      "tags": []
     },
     "output_type": "display_data"
    },
    {
     "name": "stdout",
     "output_type": "stream",
     "text": [
      "Collecting player data for year 2013....\n"
     ]
    },
    {
     "data": {
      "application/vnd.jupyter.widget-view+json": {
       "model_id": "2150140b5a6f4d6dab82ad1ec4735f82",
       "version_major": 2,
       "version_minor": 0
      },
      "text/plain": [
       "HBox(children=(IntProgress(value=0, max=76), HTML(value='')))"
      ]
     },
     "metadata": {
      "tags": []
     },
     "output_type": "display_data"
    }
   ],
   "source": [
    "json_data = fetch_player_data([2009,2011,2012,2013])"
   ]
  },
  {
   "cell_type": "code",
   "execution_count": 53,
   "metadata": {
    "colab": {
     "base_uri": "https://localhost:8080/",
     "height": 34
    },
    "colab_type": "code",
    "executionInfo": {
     "elapsed": 1083,
     "status": "ok",
     "timestamp": 1582482404636,
     "user": {
      "displayName": "SOURABH KUMAR",
      "photoUrl": "https://lh3.googleusercontent.com/a-/AAuE7mC_FMW1szJB5cImAhe9VqykK4aQlayAQVAoZlq4wg=s64",
      "userId": "05670567564810889409"
     },
     "user_tz": -330
    },
    "id": "FLbxLbY0PhKf",
    "outputId": "8ccce641-9eff-457d-83bf-75cc1b4d5a94"
   },
   "outputs": [
    {
     "data": {
      "text/plain": [
       "342"
      ]
     },
     "execution_count": 53,
     "metadata": {
      "tags": []
     },
     "output_type": "execute_result"
    }
   ],
   "source": [
    "len(json_data)"
   ]
  },
  {
   "cell_type": "code",
   "execution_count": 54,
   "metadata": {
    "colab": {
     "base_uri": "https://localhost:8080/",
     "height": 34
    },
    "colab_type": "code",
    "executionInfo": {
     "elapsed": 1047,
     "status": "ok",
     "timestamp": 1582482419796,
     "user": {
      "displayName": "SOURABH KUMAR",
      "photoUrl": "https://lh3.googleusercontent.com/a-/AAuE7mC_FMW1szJB5cImAhe9VqykK4aQlayAQVAoZlq4wg=s64",
      "userId": "05670567564810889409"
     },
     "user_tz": -330
    },
    "id": "qwig3T_0QKjc",
    "outputId": "f2e9b5ce-b367-4682-9e3a-f19a58577038"
   },
   "outputs": [
    {
     "name": "stdout",
     "output_type": "stream",
     "text": [
      "/content/drive/My Drive/Data-Analytics-IPL/Data_Collection/New_player_collection_way/player_infomation_2009_11_12_13.json\n"
     ]
    }
   ],
   "source": [
    "Data_path = \"/content/drive/My Drive/Data-Analytics-IPL/Data_Collection/New_player_collection_way/\"\n",
    "\n",
    "full_path = Data_path+'player_infomation_2009_11_12_13.json'\n",
    "\n",
    "print(full_path)"
   ]
  },
  {
   "cell_type": "code",
   "execution_count": null,
   "metadata": {
    "colab": {},
    "colab_type": "code",
    "id": "iXsuSIUVwWMi"
   },
   "outputs": [],
   "source": [
    "with open(full_path, 'w') as outfile:\n",
    "    json.dump(json_data, outfile)"
   ]
  },
  {
   "cell_type": "code",
   "execution_count": null,
   "metadata": {
    "colab": {},
    "colab_type": "code",
    "id": "Qc_qy0MiwsrR"
   },
   "outputs": [],
   "source": []
  },
  {
   "cell_type": "code",
   "execution_count": null,
   "metadata": {
    "colab": {},
    "colab_type": "code",
    "id": "NOtV9ugUtoX7"
   },
   "outputs": [],
   "source": []
  }
 ],
 "metadata": {
  "colab": {
   "collapsed_sections": [],
   "name": "New_version_Player_role_collection.ipynb",
   "provenance": []
  },
  "kernelspec": {
   "display_name": "Python 3",
   "language": "python",
   "name": "python3"
  },
  "language_info": {
   "codemirror_mode": {
    "name": "ipython",
    "version": 3
   },
   "file_extension": ".py",
   "mimetype": "text/x-python",
   "name": "python",
   "nbconvert_exporter": "python",
   "pygments_lexer": "ipython3",
   "version": "3.7.3"
  },
  "widgets": {
   "application/vnd.jupyter.widget-state+json": {
    "02940eb11ba34ae4b633928813b1d854": {
     "model_module": "@jupyter-widgets/controls",
     "model_name": "HTMLModel",
     "state": {
      "_dom_classes": [],
      "_model_module": "@jupyter-widgets/controls",
      "_model_module_version": "1.5.0",
      "_model_name": "HTMLModel",
      "_view_count": null,
      "_view_module": "@jupyter-widgets/controls",
      "_view_module_version": "1.5.0",
      "_view_name": "HTMLView",
      "description": "",
      "description_tooltip": null,
      "layout": "IPY_MODEL_a14a520fb20a47748ce6ba77ef29526e",
      "placeholder": "​",
      "style": "IPY_MODEL_de1bf511c4484c68a90403636d93ef63",
      "value": "100% 59/59 [03:21&lt;00:00,  1.34s/it]"
     }
    },
    "036cb97f5d3e423ca7bea59eb3793075": {
     "model_module": "@jupyter-widgets/controls",
     "model_name": "ProgressStyleModel",
     "state": {
      "_model_module": "@jupyter-widgets/controls",
      "_model_module_version": "1.5.0",
      "_model_name": "ProgressStyleModel",
      "_view_count": null,
      "_view_module": "@jupyter-widgets/base",
      "_view_module_version": "1.2.0",
      "_view_name": "StyleView",
      "bar_color": null,
      "description_width": ""
     }
    },
    "128b1160f0614996828e3ef05f5e9641": {
     "model_module": "@jupyter-widgets/controls",
     "model_name": "IntProgressModel",
     "state": {
      "_dom_classes": [],
      "_model_module": "@jupyter-widgets/controls",
      "_model_module_version": "1.5.0",
      "_model_name": "IntProgressModel",
      "_view_count": null,
      "_view_module": "@jupyter-widgets/controls",
      "_view_module_version": "1.5.0",
      "_view_name": "ProgressView",
      "bar_style": "success",
      "description": "",
      "description_tooltip": null,
      "layout": "IPY_MODEL_eb46744172a048c5bb436431f7b14f5c",
      "max": 74,
      "min": 0,
      "orientation": "horizontal",
      "style": "IPY_MODEL_036cb97f5d3e423ca7bea59eb3793075",
      "value": 74
     }
    },
    "1cfe7236e3fe46d58eb284aacb97a1dd": {
     "model_module": "@jupyter-widgets/base",
     "model_name": "LayoutModel",
     "state": {
      "_model_module": "@jupyter-widgets/base",
      "_model_module_version": "1.2.0",
      "_model_name": "LayoutModel",
      "_view_count": null,
      "_view_module": "@jupyter-widgets/base",
      "_view_module_version": "1.2.0",
      "_view_name": "LayoutView",
      "align_content": null,
      "align_items": null,
      "align_self": null,
      "border": null,
      "bottom": null,
      "display": null,
      "flex": null,
      "flex_flow": null,
      "grid_area": null,
      "grid_auto_columns": null,
      "grid_auto_flow": null,
      "grid_auto_rows": null,
      "grid_column": null,
      "grid_gap": null,
      "grid_row": null,
      "grid_template_areas": null,
      "grid_template_columns": null,
      "grid_template_rows": null,
      "height": null,
      "justify_content": null,
      "justify_items": null,
      "left": null,
      "margin": null,
      "max_height": null,
      "max_width": null,
      "min_height": null,
      "min_width": null,
      "object_fit": null,
      "object_position": null,
      "order": null,
      "overflow": null,
      "overflow_x": null,
      "overflow_y": null,
      "padding": null,
      "right": null,
      "top": null,
      "visibility": null,
      "width": null
     }
    },
    "2150140b5a6f4d6dab82ad1ec4735f82": {
     "model_module": "@jupyter-widgets/controls",
     "model_name": "HBoxModel",
     "state": {
      "_dom_classes": [],
      "_model_module": "@jupyter-widgets/controls",
      "_model_module_version": "1.5.0",
      "_model_name": "HBoxModel",
      "_view_count": null,
      "_view_module": "@jupyter-widgets/controls",
      "_view_module_version": "1.5.0",
      "_view_name": "HBoxView",
      "box_style": "",
      "children": [
       "IPY_MODEL_f491f26664014f029690a506e8666659",
       "IPY_MODEL_c08209bcfd7743f8ade15db6ae076c72"
      ],
      "layout": "IPY_MODEL_1cfe7236e3fe46d58eb284aacb97a1dd"
     }
    },
    "21cefe1ee1a246d39a9cd14d40f400b2": {
     "model_module": "@jupyter-widgets/base",
     "model_name": "LayoutModel",
     "state": {
      "_model_module": "@jupyter-widgets/base",
      "_model_module_version": "1.2.0",
      "_model_name": "LayoutModel",
      "_view_count": null,
      "_view_module": "@jupyter-widgets/base",
      "_view_module_version": "1.2.0",
      "_view_name": "LayoutView",
      "align_content": null,
      "align_items": null,
      "align_self": null,
      "border": null,
      "bottom": null,
      "display": null,
      "flex": null,
      "flex_flow": null,
      "grid_area": null,
      "grid_auto_columns": null,
      "grid_auto_flow": null,
      "grid_auto_rows": null,
      "grid_column": null,
      "grid_gap": null,
      "grid_row": null,
      "grid_template_areas": null,
      "grid_template_columns": null,
      "grid_template_rows": null,
      "height": null,
      "justify_content": null,
      "justify_items": null,
      "left": null,
      "margin": null,
      "max_height": null,
      "max_width": null,
      "min_height": null,
      "min_width": null,
      "object_fit": null,
      "object_position": null,
      "order": null,
      "overflow": null,
      "overflow_x": null,
      "overflow_y": null,
      "padding": null,
      "right": null,
      "top": null,
      "visibility": null,
      "width": null
     }
    },
    "329cfe11452b4b86a7901a4fd80c3df3": {
     "model_module": "@jupyter-widgets/controls",
     "model_name": "HBoxModel",
     "state": {
      "_dom_classes": [],
      "_model_module": "@jupyter-widgets/controls",
      "_model_module_version": "1.5.0",
      "_model_name": "HBoxModel",
      "_view_count": null,
      "_view_module": "@jupyter-widgets/controls",
      "_view_module_version": "1.5.0",
      "_view_name": "HBoxView",
      "box_style": "",
      "children": [
       "IPY_MODEL_5df491f5dd884519be3d9e63a6ac473e",
       "IPY_MODEL_e95f683a3a2f451da9edd2dea1ae6230"
      ],
      "layout": "IPY_MODEL_ff5173ac1e93418d91372b91293a5430"
     }
    },
    "3c2c6f5eeb104dbda17b9151f325accc": {
     "model_module": "@jupyter-widgets/controls",
     "model_name": "HBoxModel",
     "state": {
      "_dom_classes": [],
      "_model_module": "@jupyter-widgets/controls",
      "_model_module_version": "1.5.0",
      "_model_name": "HBoxModel",
      "_view_count": null,
      "_view_module": "@jupyter-widgets/controls",
      "_view_module_version": "1.5.0",
      "_view_name": "HBoxView",
      "box_style": "",
      "children": [
       "IPY_MODEL_4fc7308d41734279aa51c18f3e589e06",
       "IPY_MODEL_02940eb11ba34ae4b633928813b1d854"
      ],
      "layout": "IPY_MODEL_a07a0638c49b47289962919d8e0cc7dc"
     }
    },
    "4bea2fd3a27a4e07aafc76113c808862": {
     "model_module": "@jupyter-widgets/controls",
     "model_name": "DescriptionStyleModel",
     "state": {
      "_model_module": "@jupyter-widgets/controls",
      "_model_module_version": "1.5.0",
      "_model_name": "DescriptionStyleModel",
      "_view_count": null,
      "_view_module": "@jupyter-widgets/base",
      "_view_module_version": "1.2.0",
      "_view_name": "StyleView",
      "description_width": ""
     }
    },
    "4fc7308d41734279aa51c18f3e589e06": {
     "model_module": "@jupyter-widgets/controls",
     "model_name": "IntProgressModel",
     "state": {
      "_dom_classes": [],
      "_model_module": "@jupyter-widgets/controls",
      "_model_module_version": "1.5.0",
      "_model_name": "IntProgressModel",
      "_view_count": null,
      "_view_module": "@jupyter-widgets/controls",
      "_view_module_version": "1.5.0",
      "_view_name": "ProgressView",
      "bar_style": "success",
      "description": "",
      "description_tooltip": null,
      "layout": "IPY_MODEL_625ab1e59b814e8281f9177729592b46",
      "max": 59,
      "min": 0,
      "orientation": "horizontal",
      "style": "IPY_MODEL_f9f316460e8845adb8536e593ac2e629",
      "value": 59
     }
    },
    "50f21e24cb594f47bd2d09c721849b3b": {
     "model_module": "@jupyter-widgets/controls",
     "model_name": "HBoxModel",
     "state": {
      "_dom_classes": [],
      "_model_module": "@jupyter-widgets/controls",
      "_model_module_version": "1.5.0",
      "_model_name": "HBoxModel",
      "_view_count": null,
      "_view_module": "@jupyter-widgets/controls",
      "_view_module_version": "1.5.0",
      "_view_name": "HBoxView",
      "box_style": "",
      "children": [
       "IPY_MODEL_128b1160f0614996828e3ef05f5e9641",
       "IPY_MODEL_5dd4b5e44f0d4dc68efe8c3857cb4cb4"
      ],
      "layout": "IPY_MODEL_51da691e907042d1a86a54d2ea84c5ec"
     }
    },
    "51da691e907042d1a86a54d2ea84c5ec": {
     "model_module": "@jupyter-widgets/base",
     "model_name": "LayoutModel",
     "state": {
      "_model_module": "@jupyter-widgets/base",
      "_model_module_version": "1.2.0",
      "_model_name": "LayoutModel",
      "_view_count": null,
      "_view_module": "@jupyter-widgets/base",
      "_view_module_version": "1.2.0",
      "_view_name": "LayoutView",
      "align_content": null,
      "align_items": null,
      "align_self": null,
      "border": null,
      "bottom": null,
      "display": null,
      "flex": null,
      "flex_flow": null,
      "grid_area": null,
      "grid_auto_columns": null,
      "grid_auto_flow": null,
      "grid_auto_rows": null,
      "grid_column": null,
      "grid_gap": null,
      "grid_row": null,
      "grid_template_areas": null,
      "grid_template_columns": null,
      "grid_template_rows": null,
      "height": null,
      "justify_content": null,
      "justify_items": null,
      "left": null,
      "margin": null,
      "max_height": null,
      "max_width": null,
      "min_height": null,
      "min_width": null,
      "object_fit": null,
      "object_position": null,
      "order": null,
      "overflow": null,
      "overflow_x": null,
      "overflow_y": null,
      "padding": null,
      "right": null,
      "top": null,
      "visibility": null,
      "width": null
     }
    },
    "521668a6d0fd40518f4c1eb04b1419cd": {
     "model_module": "@jupyter-widgets/controls",
     "model_name": "DescriptionStyleModel",
     "state": {
      "_model_module": "@jupyter-widgets/controls",
      "_model_module_version": "1.5.0",
      "_model_name": "DescriptionStyleModel",
      "_view_count": null,
      "_view_module": "@jupyter-widgets/base",
      "_view_module_version": "1.2.0",
      "_view_name": "StyleView",
      "description_width": ""
     }
    },
    "5aed9c4a691149379a9b9261b96a0260": {
     "model_module": "@jupyter-widgets/controls",
     "model_name": "ProgressStyleModel",
     "state": {
      "_model_module": "@jupyter-widgets/controls",
      "_model_module_version": "1.5.0",
      "_model_name": "ProgressStyleModel",
      "_view_count": null,
      "_view_module": "@jupyter-widgets/base",
      "_view_module_version": "1.2.0",
      "_view_name": "StyleView",
      "bar_color": null,
      "description_width": ""
     }
    },
    "5dd4b5e44f0d4dc68efe8c3857cb4cb4": {
     "model_module": "@jupyter-widgets/controls",
     "model_name": "HTMLModel",
     "state": {
      "_dom_classes": [],
      "_model_module": "@jupyter-widgets/controls",
      "_model_module_version": "1.5.0",
      "_model_name": "HTMLModel",
      "_view_count": null,
      "_view_module": "@jupyter-widgets/controls",
      "_view_module_version": "1.5.0",
      "_view_name": "HTMLView",
      "description": "",
      "description_tooltip": null,
      "layout": "IPY_MODEL_f341dfb0c3e94ba1b7e443696ac8e378",
      "placeholder": "​",
      "style": "IPY_MODEL_80ee75183afa4d30bf746124dfece64d",
      "value": "100% 74/74 [02:47&lt;00:00,  1.26s/it]"
     }
    },
    "5df491f5dd884519be3d9e63a6ac473e": {
     "model_module": "@jupyter-widgets/controls",
     "model_name": "IntProgressModel",
     "state": {
      "_dom_classes": [],
      "_model_module": "@jupyter-widgets/controls",
      "_model_module_version": "1.5.0",
      "_model_name": "IntProgressModel",
      "_view_count": null,
      "_view_module": "@jupyter-widgets/controls",
      "_view_module_version": "1.5.0",
      "_view_name": "ProgressView",
      "bar_style": "success",
      "description": "",
      "description_tooltip": null,
      "layout": "IPY_MODEL_a8be88f2299446de81af459cc90f6348",
      "max": 76,
      "min": 0,
      "orientation": "horizontal",
      "style": "IPY_MODEL_5aed9c4a691149379a9b9261b96a0260",
      "value": 76
     }
    },
    "625ab1e59b814e8281f9177729592b46": {
     "model_module": "@jupyter-widgets/base",
     "model_name": "LayoutModel",
     "state": {
      "_model_module": "@jupyter-widgets/base",
      "_model_module_version": "1.2.0",
      "_model_name": "LayoutModel",
      "_view_count": null,
      "_view_module": "@jupyter-widgets/base",
      "_view_module_version": "1.2.0",
      "_view_name": "LayoutView",
      "align_content": null,
      "align_items": null,
      "align_self": null,
      "border": null,
      "bottom": null,
      "display": null,
      "flex": null,
      "flex_flow": null,
      "grid_area": null,
      "grid_auto_columns": null,
      "grid_auto_flow": null,
      "grid_auto_rows": null,
      "grid_column": null,
      "grid_gap": null,
      "grid_row": null,
      "grid_template_areas": null,
      "grid_template_columns": null,
      "grid_template_rows": null,
      "height": null,
      "justify_content": null,
      "justify_items": null,
      "left": null,
      "margin": null,
      "max_height": null,
      "max_width": null,
      "min_height": null,
      "min_width": null,
      "object_fit": null,
      "object_position": null,
      "order": null,
      "overflow": null,
      "overflow_x": null,
      "overflow_y": null,
      "padding": null,
      "right": null,
      "top": null,
      "visibility": null,
      "width": null
     }
    },
    "80ee75183afa4d30bf746124dfece64d": {
     "model_module": "@jupyter-widgets/controls",
     "model_name": "DescriptionStyleModel",
     "state": {
      "_model_module": "@jupyter-widgets/controls",
      "_model_module_version": "1.5.0",
      "_model_name": "DescriptionStyleModel",
      "_view_count": null,
      "_view_module": "@jupyter-widgets/base",
      "_view_module_version": "1.2.0",
      "_view_name": "StyleView",
      "description_width": ""
     }
    },
    "848f18e3da8a4494b610d23947623926": {
     "model_module": "@jupyter-widgets/base",
     "model_name": "LayoutModel",
     "state": {
      "_model_module": "@jupyter-widgets/base",
      "_model_module_version": "1.2.0",
      "_model_name": "LayoutModel",
      "_view_count": null,
      "_view_module": "@jupyter-widgets/base",
      "_view_module_version": "1.2.0",
      "_view_name": "LayoutView",
      "align_content": null,
      "align_items": null,
      "align_self": null,
      "border": null,
      "bottom": null,
      "display": null,
      "flex": null,
      "flex_flow": null,
      "grid_area": null,
      "grid_auto_columns": null,
      "grid_auto_flow": null,
      "grid_auto_rows": null,
      "grid_column": null,
      "grid_gap": null,
      "grid_row": null,
      "grid_template_areas": null,
      "grid_template_columns": null,
      "grid_template_rows": null,
      "height": null,
      "justify_content": null,
      "justify_items": null,
      "left": null,
      "margin": null,
      "max_height": null,
      "max_width": null,
      "min_height": null,
      "min_width": null,
      "object_fit": null,
      "object_position": null,
      "order": null,
      "overflow": null,
      "overflow_x": null,
      "overflow_y": null,
      "padding": null,
      "right": null,
      "top": null,
      "visibility": null,
      "width": null
     }
    },
    "892041c8229e46d5becf63133e416535": {
     "model_module": "@jupyter-widgets/controls",
     "model_name": "ProgressStyleModel",
     "state": {
      "_model_module": "@jupyter-widgets/controls",
      "_model_module_version": "1.5.0",
      "_model_name": "ProgressStyleModel",
      "_view_count": null,
      "_view_module": "@jupyter-widgets/base",
      "_view_module_version": "1.2.0",
      "_view_name": "StyleView",
      "bar_color": null,
      "description_width": ""
     }
    },
    "a07a0638c49b47289962919d8e0cc7dc": {
     "model_module": "@jupyter-widgets/base",
     "model_name": "LayoutModel",
     "state": {
      "_model_module": "@jupyter-widgets/base",
      "_model_module_version": "1.2.0",
      "_model_name": "LayoutModel",
      "_view_count": null,
      "_view_module": "@jupyter-widgets/base",
      "_view_module_version": "1.2.0",
      "_view_name": "LayoutView",
      "align_content": null,
      "align_items": null,
      "align_self": null,
      "border": null,
      "bottom": null,
      "display": null,
      "flex": null,
      "flex_flow": null,
      "grid_area": null,
      "grid_auto_columns": null,
      "grid_auto_flow": null,
      "grid_auto_rows": null,
      "grid_column": null,
      "grid_gap": null,
      "grid_row": null,
      "grid_template_areas": null,
      "grid_template_columns": null,
      "grid_template_rows": null,
      "height": null,
      "justify_content": null,
      "justify_items": null,
      "left": null,
      "margin": null,
      "max_height": null,
      "max_width": null,
      "min_height": null,
      "min_width": null,
      "object_fit": null,
      "object_position": null,
      "order": null,
      "overflow": null,
      "overflow_x": null,
      "overflow_y": null,
      "padding": null,
      "right": null,
      "top": null,
      "visibility": null,
      "width": null
     }
    },
    "a14a520fb20a47748ce6ba77ef29526e": {
     "model_module": "@jupyter-widgets/base",
     "model_name": "LayoutModel",
     "state": {
      "_model_module": "@jupyter-widgets/base",
      "_model_module_version": "1.2.0",
      "_model_name": "LayoutModel",
      "_view_count": null,
      "_view_module": "@jupyter-widgets/base",
      "_view_module_version": "1.2.0",
      "_view_name": "LayoutView",
      "align_content": null,
      "align_items": null,
      "align_self": null,
      "border": null,
      "bottom": null,
      "display": null,
      "flex": null,
      "flex_flow": null,
      "grid_area": null,
      "grid_auto_columns": null,
      "grid_auto_flow": null,
      "grid_auto_rows": null,
      "grid_column": null,
      "grid_gap": null,
      "grid_row": null,
      "grid_template_areas": null,
      "grid_template_columns": null,
      "grid_template_rows": null,
      "height": null,
      "justify_content": null,
      "justify_items": null,
      "left": null,
      "margin": null,
      "max_height": null,
      "max_width": null,
      "min_height": null,
      "min_width": null,
      "object_fit": null,
      "object_position": null,
      "order": null,
      "overflow": null,
      "overflow_x": null,
      "overflow_y": null,
      "padding": null,
      "right": null,
      "top": null,
      "visibility": null,
      "width": null
     }
    },
    "a8be88f2299446de81af459cc90f6348": {
     "model_module": "@jupyter-widgets/base",
     "model_name": "LayoutModel",
     "state": {
      "_model_module": "@jupyter-widgets/base",
      "_model_module_version": "1.2.0",
      "_model_name": "LayoutModel",
      "_view_count": null,
      "_view_module": "@jupyter-widgets/base",
      "_view_module_version": "1.2.0",
      "_view_name": "LayoutView",
      "align_content": null,
      "align_items": null,
      "align_self": null,
      "border": null,
      "bottom": null,
      "display": null,
      "flex": null,
      "flex_flow": null,
      "grid_area": null,
      "grid_auto_columns": null,
      "grid_auto_flow": null,
      "grid_auto_rows": null,
      "grid_column": null,
      "grid_gap": null,
      "grid_row": null,
      "grid_template_areas": null,
      "grid_template_columns": null,
      "grid_template_rows": null,
      "height": null,
      "justify_content": null,
      "justify_items": null,
      "left": null,
      "margin": null,
      "max_height": null,
      "max_width": null,
      "min_height": null,
      "min_width": null,
      "object_fit": null,
      "object_position": null,
      "order": null,
      "overflow": null,
      "overflow_x": null,
      "overflow_y": null,
      "padding": null,
      "right": null,
      "top": null,
      "visibility": null,
      "width": null
     }
    },
    "ae195a8e5b214ffbb81427ff682df1d1": {
     "model_module": "@jupyter-widgets/base",
     "model_name": "LayoutModel",
     "state": {
      "_model_module": "@jupyter-widgets/base",
      "_model_module_version": "1.2.0",
      "_model_name": "LayoutModel",
      "_view_count": null,
      "_view_module": "@jupyter-widgets/base",
      "_view_module_version": "1.2.0",
      "_view_name": "LayoutView",
      "align_content": null,
      "align_items": null,
      "align_self": null,
      "border": null,
      "bottom": null,
      "display": null,
      "flex": null,
      "flex_flow": null,
      "grid_area": null,
      "grid_auto_columns": null,
      "grid_auto_flow": null,
      "grid_auto_rows": null,
      "grid_column": null,
      "grid_gap": null,
      "grid_row": null,
      "grid_template_areas": null,
      "grid_template_columns": null,
      "grid_template_rows": null,
      "height": null,
      "justify_content": null,
      "justify_items": null,
      "left": null,
      "margin": null,
      "max_height": null,
      "max_width": null,
      "min_height": null,
      "min_width": null,
      "object_fit": null,
      "object_position": null,
      "order": null,
      "overflow": null,
      "overflow_x": null,
      "overflow_y": null,
      "padding": null,
      "right": null,
      "top": null,
      "visibility": null,
      "width": null
     }
    },
    "c08209bcfd7743f8ade15db6ae076c72": {
     "model_module": "@jupyter-widgets/controls",
     "model_name": "HTMLModel",
     "state": {
      "_dom_classes": [],
      "_model_module": "@jupyter-widgets/controls",
      "_model_module_version": "1.5.0",
      "_model_name": "HTMLModel",
      "_view_count": null,
      "_view_module": "@jupyter-widgets/controls",
      "_view_module_version": "1.5.0",
      "_view_name": "HTMLView",
      "description": "",
      "description_tooltip": null,
      "layout": "IPY_MODEL_ae195a8e5b214ffbb81427ff682df1d1",
      "placeholder": "​",
      "style": "IPY_MODEL_521668a6d0fd40518f4c1eb04b1419cd",
      "value": "100% 76/76 [01:54&lt;00:00,  1.15s/it]"
     }
    },
    "de1bf511c4484c68a90403636d93ef63": {
     "model_module": "@jupyter-widgets/controls",
     "model_name": "DescriptionStyleModel",
     "state": {
      "_model_module": "@jupyter-widgets/controls",
      "_model_module_version": "1.5.0",
      "_model_name": "DescriptionStyleModel",
      "_view_count": null,
      "_view_module": "@jupyter-widgets/base",
      "_view_module_version": "1.2.0",
      "_view_name": "StyleView",
      "description_width": ""
     }
    },
    "e95f683a3a2f451da9edd2dea1ae6230": {
     "model_module": "@jupyter-widgets/controls",
     "model_name": "HTMLModel",
     "state": {
      "_dom_classes": [],
      "_model_module": "@jupyter-widgets/controls",
      "_model_module_version": "1.5.0",
      "_model_name": "HTMLModel",
      "_view_count": null,
      "_view_module": "@jupyter-widgets/controls",
      "_view_module_version": "1.5.0",
      "_view_name": "HTMLView",
      "description": "",
      "description_tooltip": null,
      "layout": "IPY_MODEL_21cefe1ee1a246d39a9cd14d40f400b2",
      "placeholder": "​",
      "style": "IPY_MODEL_4bea2fd3a27a4e07aafc76113c808862",
      "value": "100% 76/76 [02:01&lt;00:00,  1.21s/it]"
     }
    },
    "eb46744172a048c5bb436431f7b14f5c": {
     "model_module": "@jupyter-widgets/base",
     "model_name": "LayoutModel",
     "state": {
      "_model_module": "@jupyter-widgets/base",
      "_model_module_version": "1.2.0",
      "_model_name": "LayoutModel",
      "_view_count": null,
      "_view_module": "@jupyter-widgets/base",
      "_view_module_version": "1.2.0",
      "_view_name": "LayoutView",
      "align_content": null,
      "align_items": null,
      "align_self": null,
      "border": null,
      "bottom": null,
      "display": null,
      "flex": null,
      "flex_flow": null,
      "grid_area": null,
      "grid_auto_columns": null,
      "grid_auto_flow": null,
      "grid_auto_rows": null,
      "grid_column": null,
      "grid_gap": null,
      "grid_row": null,
      "grid_template_areas": null,
      "grid_template_columns": null,
      "grid_template_rows": null,
      "height": null,
      "justify_content": null,
      "justify_items": null,
      "left": null,
      "margin": null,
      "max_height": null,
      "max_width": null,
      "min_height": null,
      "min_width": null,
      "object_fit": null,
      "object_position": null,
      "order": null,
      "overflow": null,
      "overflow_x": null,
      "overflow_y": null,
      "padding": null,
      "right": null,
      "top": null,
      "visibility": null,
      "width": null
     }
    },
    "f341dfb0c3e94ba1b7e443696ac8e378": {
     "model_module": "@jupyter-widgets/base",
     "model_name": "LayoutModel",
     "state": {
      "_model_module": "@jupyter-widgets/base",
      "_model_module_version": "1.2.0",
      "_model_name": "LayoutModel",
      "_view_count": null,
      "_view_module": "@jupyter-widgets/base",
      "_view_module_version": "1.2.0",
      "_view_name": "LayoutView",
      "align_content": null,
      "align_items": null,
      "align_self": null,
      "border": null,
      "bottom": null,
      "display": null,
      "flex": null,
      "flex_flow": null,
      "grid_area": null,
      "grid_auto_columns": null,
      "grid_auto_flow": null,
      "grid_auto_rows": null,
      "grid_column": null,
      "grid_gap": null,
      "grid_row": null,
      "grid_template_areas": null,
      "grid_template_columns": null,
      "grid_template_rows": null,
      "height": null,
      "justify_content": null,
      "justify_items": null,
      "left": null,
      "margin": null,
      "max_height": null,
      "max_width": null,
      "min_height": null,
      "min_width": null,
      "object_fit": null,
      "object_position": null,
      "order": null,
      "overflow": null,
      "overflow_x": null,
      "overflow_y": null,
      "padding": null,
      "right": null,
      "top": null,
      "visibility": null,
      "width": null
     }
    },
    "f491f26664014f029690a506e8666659": {
     "model_module": "@jupyter-widgets/controls",
     "model_name": "IntProgressModel",
     "state": {
      "_dom_classes": [],
      "_model_module": "@jupyter-widgets/controls",
      "_model_module_version": "1.5.0",
      "_model_name": "IntProgressModel",
      "_view_count": null,
      "_view_module": "@jupyter-widgets/controls",
      "_view_module_version": "1.5.0",
      "_view_name": "ProgressView",
      "bar_style": "success",
      "description": "",
      "description_tooltip": null,
      "layout": "IPY_MODEL_848f18e3da8a4494b610d23947623926",
      "max": 76,
      "min": 0,
      "orientation": "horizontal",
      "style": "IPY_MODEL_892041c8229e46d5becf63133e416535",
      "value": 76
     }
    },
    "f9f316460e8845adb8536e593ac2e629": {
     "model_module": "@jupyter-widgets/controls",
     "model_name": "ProgressStyleModel",
     "state": {
      "_model_module": "@jupyter-widgets/controls",
      "_model_module_version": "1.5.0",
      "_model_name": "ProgressStyleModel",
      "_view_count": null,
      "_view_module": "@jupyter-widgets/base",
      "_view_module_version": "1.2.0",
      "_view_name": "StyleView",
      "bar_color": null,
      "description_width": ""
     }
    },
    "ff5173ac1e93418d91372b91293a5430": {
     "model_module": "@jupyter-widgets/base",
     "model_name": "LayoutModel",
     "state": {
      "_model_module": "@jupyter-widgets/base",
      "_model_module_version": "1.2.0",
      "_model_name": "LayoutModel",
      "_view_count": null,
      "_view_module": "@jupyter-widgets/base",
      "_view_module_version": "1.2.0",
      "_view_name": "LayoutView",
      "align_content": null,
      "align_items": null,
      "align_self": null,
      "border": null,
      "bottom": null,
      "display": null,
      "flex": null,
      "flex_flow": null,
      "grid_area": null,
      "grid_auto_columns": null,
      "grid_auto_flow": null,
      "grid_auto_rows": null,
      "grid_column": null,
      "grid_gap": null,
      "grid_row": null,
      "grid_template_areas": null,
      "grid_template_columns": null,
      "grid_template_rows": null,
      "height": null,
      "justify_content": null,
      "justify_items": null,
      "left": null,
      "margin": null,
      "max_height": null,
      "max_width": null,
      "min_height": null,
      "min_width": null,
      "object_fit": null,
      "object_position": null,
      "order": null,
      "overflow": null,
      "overflow_x": null,
      "overflow_y": null,
      "padding": null,
      "right": null,
      "top": null,
      "visibility": null,
      "width": null
     }
    }
   }
  }
 },
 "nbformat": 4,
 "nbformat_minor": 2
}
