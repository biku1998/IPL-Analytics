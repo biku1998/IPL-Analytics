{
 "cells": [
  {
   "cell_type": "markdown",
   "metadata": {
    "colab_type": "text",
    "id": "Cf7u9Q_ad18h"
   },
   "source": [
    "### In this Notebook we will fetch match level data from data lake folder and insert it into Azure Sql-server RD database."
   ]
  },
  {
   "cell_type": "code",
   "execution_count": 1,
   "metadata": {
    "colab": {
     "base_uri": "https://localhost:8080/",
     "height": 124
    },
    "colab_type": "code",
    "executionInfo": {
     "elapsed": 6062,
     "status": "ok",
     "timestamp": 1582351074838,
     "user": {
      "displayName": "SOURABH KUMAR",
      "photoUrl": "https://lh3.googleusercontent.com/a-/AAuE7mC_FMW1szJB5cImAhe9VqykK4aQlayAQVAoZlq4wg=s64",
      "userId": "05670567564810889409"
     },
     "user_tz": -330
    },
    "id": "Kb6E9MXxeImw",
    "outputId": "da1de0e5-2389-4d59-e358-39e3baf18b36"
   },
   "outputs": [],
   "source": [
    "# !pip install tqdm # if you face issue related to tqdm\n",
    "import pyodbc\n",
    "import pandas as pd\n",
    "from tqdm import tqdm_notebook as tqdm\n",
    "\n",
    "DATA_LAKE_FOLDER_PATH = \"E:/Google_Drive_Contents/data/Final_data_files/\"\n",
    "\n",
    "# fill the database cred here\n",
    "SERVER = '*'\n",
    "DATABASE = '*'\n",
    "USERNAME = '*'\n",
    "PASSWORD = '*'"
   ]
  },
  {
   "cell_type": "code",
   "execution_count": 2,
   "metadata": {
    "colab": {},
    "colab_type": "code",
    "id": "gPi8LEDreG8P"
   },
   "outputs": [],
   "source": [
    "# read match_data from data folder\n",
    "\n",
    "match_df = pd.read_csv(DATA_LAKE_FOLDER_PATH+'/Full_match_level_data_for_DB.csv')"
   ]
  },
  {
   "cell_type": "code",
   "execution_count": 3,
   "metadata": {
    "colab": {
     "base_uri": "https://localhost:8080/",
     "height": 285
    },
    "colab_type": "code",
    "executionInfo": {
     "elapsed": 1025,
     "status": "ok",
     "timestamp": 1582351161014,
     "user": {
      "displayName": "SOURABH KUMAR",
      "photoUrl": "https://lh3.googleusercontent.com/a-/AAuE7mC_FMW1szJB5cImAhe9VqykK4aQlayAQVAoZlq4wg=s64",
      "userId": "05670567564810889409"
     },
     "user_tz": -330
    },
    "id": "CWg_BZhjelwe",
    "outputId": "b510ed94-5c14-49eb-b331-ec4c3be6b3f9"
   },
   "outputs": [
    {
     "data": {
      "text/html": [
       "<div>\n",
       "<style scoped>\n",
       "    .dataframe tbody tr th:only-of-type {\n",
       "        vertical-align: middle;\n",
       "    }\n",
       "\n",
       "    .dataframe tbody tr th {\n",
       "        vertical-align: top;\n",
       "    }\n",
       "\n",
       "    .dataframe thead th {\n",
       "        text-align: right;\n",
       "    }\n",
       "</style>\n",
       "<table border=\"1\" class=\"dataframe\">\n",
       "  <thead>\n",
       "    <tr style=\"text-align: right;\">\n",
       "      <th></th>\n",
       "      <th>Ground</th>\n",
       "      <th>Team 1</th>\n",
       "      <th>Team 2</th>\n",
       "      <th>Winner</th>\n",
       "      <th>year</th>\n",
       "      <th>month</th>\n",
       "      <th>day</th>\n",
       "      <th>win_mode</th>\n",
       "      <th>margin</th>\n",
       "      <th>toss_winner</th>\n",
       "      <th>toss_decision</th>\n",
       "    </tr>\n",
       "  </thead>\n",
       "  <tbody>\n",
       "    <tr>\n",
       "      <th>0</th>\n",
       "      <td>Cape Town</td>\n",
       "      <td>Chennai Super Kings</td>\n",
       "      <td>Mumbai Indians</td>\n",
       "      <td>Mumbai Indians</td>\n",
       "      <td>2009</td>\n",
       "      <td>Apr</td>\n",
       "      <td>18</td>\n",
       "      <td>Runs</td>\n",
       "      <td>19.0</td>\n",
       "      <td>Chennai Super Kings</td>\n",
       "      <td>elected to field first</td>\n",
       "    </tr>\n",
       "    <tr>\n",
       "      <th>1</th>\n",
       "      <td>Cape Town</td>\n",
       "      <td>Royal Challengers Bangalore</td>\n",
       "      <td>Rajasthan Royals</td>\n",
       "      <td>Royal Challengers Bangalore</td>\n",
       "      <td>2009</td>\n",
       "      <td>Apr</td>\n",
       "      <td>18</td>\n",
       "      <td>Runs</td>\n",
       "      <td>75.0</td>\n",
       "      <td>Royal Challengers Bangalore</td>\n",
       "      <td>elected to bat first</td>\n",
       "    </tr>\n",
       "    <tr>\n",
       "      <th>2</th>\n",
       "      <td>Cape Town</td>\n",
       "      <td>Delhi Capitals</td>\n",
       "      <td>Kings XI Punjab</td>\n",
       "      <td>Delhi Capitals</td>\n",
       "      <td>2009</td>\n",
       "      <td>Apr</td>\n",
       "      <td>19</td>\n",
       "      <td>Wickets</td>\n",
       "      <td>10.0</td>\n",
       "      <td>Delhi Capitals</td>\n",
       "      <td>elected to field first</td>\n",
       "    </tr>\n",
       "    <tr>\n",
       "      <th>3</th>\n",
       "      <td>Cape Town</td>\n",
       "      <td>Deccan Chargers</td>\n",
       "      <td>Kolkata Knight Riders</td>\n",
       "      <td>Deccan Chargers</td>\n",
       "      <td>2009</td>\n",
       "      <td>Apr</td>\n",
       "      <td>19</td>\n",
       "      <td>Wickets</td>\n",
       "      <td>8.0</td>\n",
       "      <td>Kolkata Knight Riders</td>\n",
       "      <td>elected to bat first</td>\n",
       "    </tr>\n",
       "    <tr>\n",
       "      <th>4</th>\n",
       "      <td>Port Elizabeth</td>\n",
       "      <td>Royal Challengers Bangalore</td>\n",
       "      <td>Chennai Super Kings</td>\n",
       "      <td>Chennai Super Kings</td>\n",
       "      <td>2009</td>\n",
       "      <td>Apr</td>\n",
       "      <td>20</td>\n",
       "      <td>Runs</td>\n",
       "      <td>92.0</td>\n",
       "      <td>Chennai Super Kings</td>\n",
       "      <td>elected to bat first</td>\n",
       "    </tr>\n",
       "  </tbody>\n",
       "</table>\n",
       "</div>"
      ],
      "text/plain": [
       "           Ground                       Team 1                 Team 2  \\\n",
       "0       Cape Town          Chennai Super Kings         Mumbai Indians   \n",
       "1       Cape Town  Royal Challengers Bangalore       Rajasthan Royals   \n",
       "2       Cape Town               Delhi Capitals        Kings XI Punjab   \n",
       "3       Cape Town              Deccan Chargers  Kolkata Knight Riders   \n",
       "4  Port Elizabeth  Royal Challengers Bangalore    Chennai Super Kings   \n",
       "\n",
       "                        Winner  year month day win_mode  margin  \\\n",
       "0               Mumbai Indians  2009   Apr  18     Runs    19.0   \n",
       "1  Royal Challengers Bangalore  2009   Apr  18     Runs    75.0   \n",
       "2               Delhi Capitals  2009   Apr  19  Wickets    10.0   \n",
       "3              Deccan Chargers  2009   Apr  19  Wickets     8.0   \n",
       "4          Chennai Super Kings  2009   Apr  20     Runs    92.0   \n",
       "\n",
       "                   toss_winner           toss_decision  \n",
       "0          Chennai Super Kings  elected to field first  \n",
       "1  Royal Challengers Bangalore    elected to bat first  \n",
       "2               Delhi Capitals  elected to field first  \n",
       "3        Kolkata Knight Riders    elected to bat first  \n",
       "4          Chennai Super Kings    elected to bat first  "
      ]
     },
     "execution_count": 3,
     "metadata": {},
     "output_type": "execute_result"
    }
   ],
   "source": [
    "# view some data\n",
    "\n",
    "match_df.head()"
   ]
  },
  {
   "cell_type": "code",
   "execution_count": 4,
   "metadata": {
    "colab": {
     "base_uri": "https://localhost:8080/",
     "height": 294
    },
    "colab_type": "code",
    "executionInfo": {
     "elapsed": 1024,
     "status": "ok",
     "timestamp": 1582351210822,
     "user": {
      "displayName": "SOURABH KUMAR",
      "photoUrl": "https://lh3.googleusercontent.com/a-/AAuE7mC_FMW1szJB5cImAhe9VqykK4aQlayAQVAoZlq4wg=s64",
      "userId": "05670567564810889409"
     },
     "user_tz": -330
    },
    "id": "zRK1-7_GepD2",
    "outputId": "22817c28-e862-48c1-f4aa-597029ba17cb"
   },
   "outputs": [
    {
     "name": "stdout",
     "output_type": "stream",
     "text": [
      "<class 'pandas.core.frame.DataFrame'>\n",
      "RangeIndex: 764 entries, 0 to 763\n",
      "Data columns (total 11 columns):\n",
      "Ground           764 non-null object\n",
      "Team 1           764 non-null object\n",
      "Team 2           764 non-null object\n",
      "Winner           764 non-null object\n",
      "year             764 non-null int64\n",
      "month            764 non-null object\n",
      "day              764 non-null object\n",
      "win_mode         744 non-null object\n",
      "margin           744 non-null float64\n",
      "toss_winner      764 non-null object\n",
      "toss_decision    764 non-null object\n",
      "dtypes: float64(1), int64(1), object(9)\n",
      "memory usage: 65.7+ KB\n"
     ]
    }
   ],
   "source": [
    "match_df.info()"
   ]
  },
  {
   "cell_type": "code",
   "execution_count": 5,
   "metadata": {
    "colab": {
     "base_uri": "https://localhost:8080/",
     "height": 224
    },
    "colab_type": "code",
    "executionInfo": {
     "elapsed": 3122,
     "status": "ok",
     "timestamp": 1582354645337,
     "user": {
      "displayName": "SOURABH KUMAR",
      "photoUrl": "https://lh3.googleusercontent.com/a-/AAuE7mC_FMW1szJB5cImAhe9VqykK4aQlayAQVAoZlq4wg=s64",
      "userId": "05670567564810889409"
     },
     "user_tz": -330
    },
    "id": "MZg6u-m9r1s3",
    "outputId": "fbe782da-48db-42e7-935c-139604959553"
   },
   "outputs": [
    {
     "data": {
      "text/plain": [
       "Ground            0\n",
       "Team 1            0\n",
       "Team 2            0\n",
       "Winner            0\n",
       "year              0\n",
       "month             0\n",
       "day               0\n",
       "win_mode         20\n",
       "margin           20\n",
       "toss_winner       0\n",
       "toss_decision     0\n",
       "dtype: int64"
      ]
     },
     "execution_count": 5,
     "metadata": {},
     "output_type": "execute_result"
    }
   ],
   "source": [
    "match_df.isna().sum()"
   ]
  },
  {
   "cell_type": "code",
   "execution_count": 6,
   "metadata": {
    "colab": {},
    "colab_type": "code",
    "id": "b7jaRNzcsBlV"
   },
   "outputs": [],
   "source": [
    "# treat missing values before inserting to database\n",
    "match_df['win_mode'] = match_df['win_mode'].fillna('')\n",
    "match_df['margin'] = match_df['margin'].fillna(0.0)"
   ]
  },
  {
   "cell_type": "code",
   "execution_count": 7,
   "metadata": {},
   "outputs": [],
   "source": [
    "month_dict = {'Apr':4, 'May':5, 'Jun':6, 'Mar':3}\n",
    "match_df['month'] = match_df['month'].apply(lambda x : month_dict[x])"
   ]
  },
  {
   "cell_type": "code",
   "execution_count": 8,
   "metadata": {},
   "outputs": [
    {
     "data": {
      "text/html": [
       "<div>\n",
       "<style scoped>\n",
       "    .dataframe tbody tr th:only-of-type {\n",
       "        vertical-align: middle;\n",
       "    }\n",
       "\n",
       "    .dataframe tbody tr th {\n",
       "        vertical-align: top;\n",
       "    }\n",
       "\n",
       "    .dataframe thead th {\n",
       "        text-align: right;\n",
       "    }\n",
       "</style>\n",
       "<table border=\"1\" class=\"dataframe\">\n",
       "  <thead>\n",
       "    <tr style=\"text-align: right;\">\n",
       "      <th></th>\n",
       "      <th>match_date</th>\n",
       "      <th>Ground</th>\n",
       "      <th>Team 1</th>\n",
       "      <th>Team 2</th>\n",
       "      <th>Winner</th>\n",
       "      <th>year</th>\n",
       "      <th>month</th>\n",
       "      <th>day</th>\n",
       "      <th>win_mode</th>\n",
       "      <th>margin</th>\n",
       "      <th>toss_winner</th>\n",
       "      <th>toss_decision</th>\n",
       "    </tr>\n",
       "  </thead>\n",
       "  <tbody>\n",
       "    <tr>\n",
       "      <th>0</th>\n",
       "      <td>2009-4-18</td>\n",
       "      <td>Cape Town</td>\n",
       "      <td>Chennai Super Kings</td>\n",
       "      <td>Mumbai Indians</td>\n",
       "      <td>Mumbai Indians</td>\n",
       "      <td>2009</td>\n",
       "      <td>4</td>\n",
       "      <td>18</td>\n",
       "      <td>Runs</td>\n",
       "      <td>19.0</td>\n",
       "      <td>Chennai Super Kings</td>\n",
       "      <td>elected to field first</td>\n",
       "    </tr>\n",
       "    <tr>\n",
       "      <th>1</th>\n",
       "      <td>2009-4-18</td>\n",
       "      <td>Cape Town</td>\n",
       "      <td>Royal Challengers Bangalore</td>\n",
       "      <td>Rajasthan Royals</td>\n",
       "      <td>Royal Challengers Bangalore</td>\n",
       "      <td>2009</td>\n",
       "      <td>4</td>\n",
       "      <td>18</td>\n",
       "      <td>Runs</td>\n",
       "      <td>75.0</td>\n",
       "      <td>Royal Challengers Bangalore</td>\n",
       "      <td>elected to bat first</td>\n",
       "    </tr>\n",
       "    <tr>\n",
       "      <th>2</th>\n",
       "      <td>2009-4-19</td>\n",
       "      <td>Cape Town</td>\n",
       "      <td>Delhi Capitals</td>\n",
       "      <td>Kings XI Punjab</td>\n",
       "      <td>Delhi Capitals</td>\n",
       "      <td>2009</td>\n",
       "      <td>4</td>\n",
       "      <td>19</td>\n",
       "      <td>Wickets</td>\n",
       "      <td>10.0</td>\n",
       "      <td>Delhi Capitals</td>\n",
       "      <td>elected to field first</td>\n",
       "    </tr>\n",
       "    <tr>\n",
       "      <th>3</th>\n",
       "      <td>2009-4-19</td>\n",
       "      <td>Cape Town</td>\n",
       "      <td>Deccan Chargers</td>\n",
       "      <td>Kolkata Knight Riders</td>\n",
       "      <td>Deccan Chargers</td>\n",
       "      <td>2009</td>\n",
       "      <td>4</td>\n",
       "      <td>19</td>\n",
       "      <td>Wickets</td>\n",
       "      <td>8.0</td>\n",
       "      <td>Kolkata Knight Riders</td>\n",
       "      <td>elected to bat first</td>\n",
       "    </tr>\n",
       "    <tr>\n",
       "      <th>4</th>\n",
       "      <td>2009-4-20</td>\n",
       "      <td>Port Elizabeth</td>\n",
       "      <td>Royal Challengers Bangalore</td>\n",
       "      <td>Chennai Super Kings</td>\n",
       "      <td>Chennai Super Kings</td>\n",
       "      <td>2009</td>\n",
       "      <td>4</td>\n",
       "      <td>20</td>\n",
       "      <td>Runs</td>\n",
       "      <td>92.0</td>\n",
       "      <td>Chennai Super Kings</td>\n",
       "      <td>elected to bat first</td>\n",
       "    </tr>\n",
       "  </tbody>\n",
       "</table>\n",
       "</div>"
      ],
      "text/plain": [
       "  match_date          Ground                       Team 1  \\\n",
       "0  2009-4-18       Cape Town          Chennai Super Kings   \n",
       "1  2009-4-18       Cape Town  Royal Challengers Bangalore   \n",
       "2  2009-4-19       Cape Town               Delhi Capitals   \n",
       "3  2009-4-19       Cape Town              Deccan Chargers   \n",
       "4  2009-4-20  Port Elizabeth  Royal Challengers Bangalore   \n",
       "\n",
       "                  Team 2                       Winner  year  month day  \\\n",
       "0         Mumbai Indians               Mumbai Indians  2009      4  18   \n",
       "1       Rajasthan Royals  Royal Challengers Bangalore  2009      4  18   \n",
       "2        Kings XI Punjab               Delhi Capitals  2009      4  19   \n",
       "3  Kolkata Knight Riders              Deccan Chargers  2009      4  19   \n",
       "4    Chennai Super Kings          Chennai Super Kings  2009      4  20   \n",
       "\n",
       "  win_mode  margin                  toss_winner           toss_decision  \n",
       "0     Runs    19.0          Chennai Super Kings  elected to field first  \n",
       "1     Runs    75.0  Royal Challengers Bangalore    elected to bat first  \n",
       "2  Wickets    10.0               Delhi Capitals  elected to field first  \n",
       "3  Wickets     8.0        Kolkata Knight Riders    elected to bat first  \n",
       "4     Runs    92.0          Chennai Super Kings    elected to bat first  "
      ]
     },
     "execution_count": 8,
     "metadata": {},
     "output_type": "execute_result"
    }
   ],
   "source": [
    "def make_date(row):\n",
    "    return '{}-{}-{}'.format(str(row['year']),str(row['month']),str(row['day']))\n",
    "\n",
    "match_df['match_date'] = match_df.apply(make_date,axis = 1)\n",
    "\n",
    "match_df.head()\n",
    "\n",
    "match_df = match_df[['match_date','Ground', 'Team 1', 'Team 2', 'Winner', \\\n",
    "                     'year', 'month', 'day','win_mode', 'margin', 'toss_winner', 'toss_decision']]\n",
    "\n",
    "match_df.drop(341,inplace = True)\n",
    "match_df.head()"
   ]
  },
  {
   "cell_type": "code",
   "execution_count": 9,
   "metadata": {},
   "outputs": [],
   "source": [
    "match_df['match_date'] =  pd.to_datetime(match_df['match_date'], format='%Y/%m/%d')"
   ]
  },
  {
   "cell_type": "code",
   "execution_count": 10,
   "metadata": {},
   "outputs": [],
   "source": [
    "match_df.to_csv(DATA_LAKE_FOLDER_PATH+'ipl_matches.csv',index = False)"
   ]
  },
  {
   "cell_type": "code",
   "execution_count": 121,
   "metadata": {
    "colab": {},
    "colab_type": "code",
    "id": "f55Lx3Hie1Lr"
   },
   "outputs": [],
   "source": [
    "def get_azure_database_connection(server,database,username,password):\n",
    "    \"\"\"\n",
    "    This function will return an aws conn object for azure SQl Server database.\n",
    "    return : AWS connection object\n",
    "    \"\"\"\n",
    "    cnxn = None\n",
    "    try:\n",
    "        cnxn = pyodbc.connect('DRIVER={SQL Server};SERVER='+server+';DATABASE='+database+';UID='+username+';PWD='+ password)\n",
    "        return cnxn\n",
    "        \n",
    "    except Exception as e:\n",
    "        print(e)"
   ]
  },
  {
   "cell_type": "code",
   "execution_count": 122,
   "metadata": {
    "colab": {},
    "colab_type": "code",
    "id": "vgT7xtuggTof"
   },
   "outputs": [],
   "source": [
    "# get the database conncetion\n",
    "\n",
    "db_connection = get_azure_database_connection(SERVER,DATABASE,USERNAME,PASSWORD)"
   ]
  },
  {
   "cell_type": "code",
   "execution_count": 123,
   "metadata": {
    "colab": {},
    "colab_type": "code",
    "id": "eSHXT7Z-gZW4"
   },
   "outputs": [],
   "source": [
    "def insert_data_into_database(db_connection,df):\n",
    "    \"\"\"\n",
    "    This function will insert data into the database row by row.\n",
    "    parameters :\n",
    "    db_connection : database connection object\n",
    "    df : pandas DataFrame which has data\n",
    "    return : None\n",
    "    \"\"\"\n",
    "    try:\n",
    "        \n",
    "         # get the cursor\n",
    "        cur = db_connection.cursor()\n",
    "        for i,row in tqdm(df.iterrows(),total = df.shape[0]):\n",
    "            row_list = list(row) # for easy access\n",
    "            # create insert statment\n",
    "            Insert_Statment = f\"\"\"Insert into ipl_matches (match_date,ground,team_1,team_2,winner,match_year,match_month,match_day,win_mode,margin,toss_winner,toss_decision)values('{row_list[0]}','{row_list[1]}','{row_list[2]}','{row_list[3]}','{row_list[4]}','{row_list[5]}','{row_list[6]}',\n",
    "                 '{row_list[7]}','{row_list[8]}',{row_list[9]},'{row_list[10]}','{row_list[11]}')\"\"\"\n",
    "\n",
    "#           print(Insert_Statment)\n",
    "\n",
    "#             break\n",
    "            # execute the query\n",
    "            cur.execute(Insert_Statment)\n",
    "            # commit the connection\n",
    "            db_connection.commit()\n",
    "\n",
    "\n",
    "    except Exception as e:\n",
    "        print(e)"
   ]
  },
  {
   "cell_type": "code",
   "execution_count": 124,
   "metadata": {
    "colab": {
     "base_uri": "https://localhost:8080/",
     "height": 49,
     "referenced_widgets": [
      "ff2816aeb443487c83c654db9fc5c6e2",
      "894e3cea222b4cc19ea2ae355ce0a26b",
      "79011ef87afc4f1ab122da0ab3353bdc",
      "71b929fce56f4459b8355a2666c8721d",
      "af2edf61c0a54db595990cc80cfd6e4b",
      "0149936bcd9349c5a25e1a8ea21040fc",
      "3052e459c709492ab2bd763c3aff7aea",
      "209821b10d7a43e2b255823667e43fea"
     ]
    },
    "colab_type": "code",
    "executionInfo": {
     "elapsed": 366063,
     "status": "ok",
     "timestamp": 1582355329182,
     "user": {
      "displayName": "SOURABH KUMAR",
      "photoUrl": "https://lh3.googleusercontent.com/a-/AAuE7mC_FMW1szJB5cImAhe9VqykK4aQlayAQVAoZlq4wg=s64",
      "userId": "05670567564810889409"
     },
     "user_tz": -330
    },
    "id": "suHgHS5cj7TV",
    "outputId": "6427bf7f-f7a9-481f-f14f-fada8a452d94"
   },
   "outputs": [
    {
     "data": {
      "application/vnd.jupyter.widget-view+json": {
       "model_id": "f485936b25524a8087d0f4d0dd3eafda",
       "version_major": 2,
       "version_minor": 0
      },
      "text/plain": [
       "HBox(children=(IntProgress(value=0, max=763), HTML(value='')))"
      ]
     },
     "metadata": {},
     "output_type": "display_data"
    }
   ],
   "source": [
    "insert_data_into_database(db_connection,match_df)"
   ]
  },
  {
   "cell_type": "code",
   "execution_count": 125,
   "metadata": {
    "colab": {},
    "colab_type": "code",
    "id": "k3V0kWdIkK7e"
   },
   "outputs": [],
   "source": [
    "db_connection.close()"
   ]
  },
  {
   "cell_type": "code",
   "execution_count": 126,
   "metadata": {
    "colab": {},
    "colab_type": "code",
    "id": "KJQfmG6zmbjY"
   },
   "outputs": [
    {
     "data": {
      "text/plain": [
       "(763, 12)"
      ]
     },
     "execution_count": 126,
     "metadata": {},
     "output_type": "execute_result"
    }
   ],
   "source": [
    "match_df.shape"
   ]
  },
  {
   "cell_type": "code",
   "execution_count": null,
   "metadata": {},
   "outputs": [],
   "source": []
  },
  {
   "cell_type": "code",
   "execution_count": null,
   "metadata": {},
   "outputs": [],
   "source": []
  }
 ],
 "metadata": {
  "colab": {
   "authorship_tag": "ABX9TyMvTeWVGbuLDjZgCuljTjr+",
   "collapsed_sections": [],
   "mount_file_id": "1rQ6ovcGUnoUV99_N8Cei9g57ndzZRt03",
   "name": "Insert_Match_table_data_in_AWS.ipynb",
   "provenance": []
  },
  "kernelspec": {
   "display_name": "Python 3",
   "language": "python",
   "name": "python3"
  },
  "language_info": {
   "codemirror_mode": {
    "name": "ipython",
    "version": 3
   },
   "file_extension": ".py",
   "mimetype": "text/x-python",
   "name": "python",
   "nbconvert_exporter": "python",
   "pygments_lexer": "ipython3",
   "version": "3.7.3"
  },
  "widgets": {
   "application/vnd.jupyter.widget-state+json": {
    "0149936bcd9349c5a25e1a8ea21040fc": {
     "model_module": "@jupyter-widgets/base",
     "model_name": "LayoutModel",
     "state": {
      "_model_module": "@jupyter-widgets/base",
      "_model_module_version": "1.2.0",
      "_model_name": "LayoutModel",
      "_view_count": null,
      "_view_module": "@jupyter-widgets/base",
      "_view_module_version": "1.2.0",
      "_view_name": "LayoutView",
      "align_content": null,
      "align_items": null,
      "align_self": null,
      "border": null,
      "bottom": null,
      "display": null,
      "flex": null,
      "flex_flow": null,
      "grid_area": null,
      "grid_auto_columns": null,
      "grid_auto_flow": null,
      "grid_auto_rows": null,
      "grid_column": null,
      "grid_gap": null,
      "grid_row": null,
      "grid_template_areas": null,
      "grid_template_columns": null,
      "grid_template_rows": null,
      "height": null,
      "justify_content": null,
      "justify_items": null,
      "left": null,
      "margin": null,
      "max_height": null,
      "max_width": null,
      "min_height": null,
      "min_width": null,
      "object_fit": null,
      "object_position": null,
      "order": null,
      "overflow": null,
      "overflow_x": null,
      "overflow_y": null,
      "padding": null,
      "right": null,
      "top": null,
      "visibility": null,
      "width": null
     }
    },
    "209821b10d7a43e2b255823667e43fea": {
     "model_module": "@jupyter-widgets/base",
     "model_name": "LayoutModel",
     "state": {
      "_model_module": "@jupyter-widgets/base",
      "_model_module_version": "1.2.0",
      "_model_name": "LayoutModel",
      "_view_count": null,
      "_view_module": "@jupyter-widgets/base",
      "_view_module_version": "1.2.0",
      "_view_name": "LayoutView",
      "align_content": null,
      "align_items": null,
      "align_self": null,
      "border": null,
      "bottom": null,
      "display": null,
      "flex": null,
      "flex_flow": null,
      "grid_area": null,
      "grid_auto_columns": null,
      "grid_auto_flow": null,
      "grid_auto_rows": null,
      "grid_column": null,
      "grid_gap": null,
      "grid_row": null,
      "grid_template_areas": null,
      "grid_template_columns": null,
      "grid_template_rows": null,
      "height": null,
      "justify_content": null,
      "justify_items": null,
      "left": null,
      "margin": null,
      "max_height": null,
      "max_width": null,
      "min_height": null,
      "min_width": null,
      "object_fit": null,
      "object_position": null,
      "order": null,
      "overflow": null,
      "overflow_x": null,
      "overflow_y": null,
      "padding": null,
      "right": null,
      "top": null,
      "visibility": null,
      "width": null
     }
    },
    "3052e459c709492ab2bd763c3aff7aea": {
     "model_module": "@jupyter-widgets/controls",
     "model_name": "DescriptionStyleModel",
     "state": {
      "_model_module": "@jupyter-widgets/controls",
      "_model_module_version": "1.5.0",
      "_model_name": "DescriptionStyleModel",
      "_view_count": null,
      "_view_module": "@jupyter-widgets/base",
      "_view_module_version": "1.2.0",
      "_view_name": "StyleView",
      "description_width": ""
     }
    },
    "71b929fce56f4459b8355a2666c8721d": {
     "model_module": "@jupyter-widgets/controls",
     "model_name": "HTMLModel",
     "state": {
      "_dom_classes": [],
      "_model_module": "@jupyter-widgets/controls",
      "_model_module_version": "1.5.0",
      "_model_name": "HTMLModel",
      "_view_count": null,
      "_view_module": "@jupyter-widgets/controls",
      "_view_module_version": "1.5.0",
      "_view_name": "HTMLView",
      "description": "",
      "description_tooltip": null,
      "layout": "IPY_MODEL_209821b10d7a43e2b255823667e43fea",
      "placeholder": "​",
      "style": "IPY_MODEL_3052e459c709492ab2bd763c3aff7aea",
      "value": "100% 764/764 [06:05&lt;00:00,  2.07it/s]"
     }
    },
    "79011ef87afc4f1ab122da0ab3353bdc": {
     "model_module": "@jupyter-widgets/controls",
     "model_name": "IntProgressModel",
     "state": {
      "_dom_classes": [],
      "_model_module": "@jupyter-widgets/controls",
      "_model_module_version": "1.5.0",
      "_model_name": "IntProgressModel",
      "_view_count": null,
      "_view_module": "@jupyter-widgets/controls",
      "_view_module_version": "1.5.0",
      "_view_name": "ProgressView",
      "bar_style": "success",
      "description": "",
      "description_tooltip": null,
      "layout": "IPY_MODEL_0149936bcd9349c5a25e1a8ea21040fc",
      "max": 764,
      "min": 0,
      "orientation": "horizontal",
      "style": "IPY_MODEL_af2edf61c0a54db595990cc80cfd6e4b",
      "value": 764
     }
    },
    "894e3cea222b4cc19ea2ae355ce0a26b": {
     "model_module": "@jupyter-widgets/base",
     "model_name": "LayoutModel",
     "state": {
      "_model_module": "@jupyter-widgets/base",
      "_model_module_version": "1.2.0",
      "_model_name": "LayoutModel",
      "_view_count": null,
      "_view_module": "@jupyter-widgets/base",
      "_view_module_version": "1.2.0",
      "_view_name": "LayoutView",
      "align_content": null,
      "align_items": null,
      "align_self": null,
      "border": null,
      "bottom": null,
      "display": null,
      "flex": null,
      "flex_flow": null,
      "grid_area": null,
      "grid_auto_columns": null,
      "grid_auto_flow": null,
      "grid_auto_rows": null,
      "grid_column": null,
      "grid_gap": null,
      "grid_row": null,
      "grid_template_areas": null,
      "grid_template_columns": null,
      "grid_template_rows": null,
      "height": null,
      "justify_content": null,
      "justify_items": null,
      "left": null,
      "margin": null,
      "max_height": null,
      "max_width": null,
      "min_height": null,
      "min_width": null,
      "object_fit": null,
      "object_position": null,
      "order": null,
      "overflow": null,
      "overflow_x": null,
      "overflow_y": null,
      "padding": null,
      "right": null,
      "top": null,
      "visibility": null,
      "width": null
     }
    },
    "af2edf61c0a54db595990cc80cfd6e4b": {
     "model_module": "@jupyter-widgets/controls",
     "model_name": "ProgressStyleModel",
     "state": {
      "_model_module": "@jupyter-widgets/controls",
      "_model_module_version": "1.5.0",
      "_model_name": "ProgressStyleModel",
      "_view_count": null,
      "_view_module": "@jupyter-widgets/base",
      "_view_module_version": "1.2.0",
      "_view_name": "StyleView",
      "bar_color": null,
      "description_width": ""
     }
    },
    "ff2816aeb443487c83c654db9fc5c6e2": {
     "model_module": "@jupyter-widgets/controls",
     "model_name": "HBoxModel",
     "state": {
      "_dom_classes": [],
      "_model_module": "@jupyter-widgets/controls",
      "_model_module_version": "1.5.0",
      "_model_name": "HBoxModel",
      "_view_count": null,
      "_view_module": "@jupyter-widgets/controls",
      "_view_module_version": "1.5.0",
      "_view_name": "HBoxView",
      "box_style": "",
      "children": [
       "IPY_MODEL_79011ef87afc4f1ab122da0ab3353bdc",
       "IPY_MODEL_71b929fce56f4459b8355a2666c8721d"
      ],
      "layout": "IPY_MODEL_894e3cea222b4cc19ea2ae355ce0a26b"
     }
    }
   }
  }
 },
 "nbformat": 4,
 "nbformat_minor": 2
}
