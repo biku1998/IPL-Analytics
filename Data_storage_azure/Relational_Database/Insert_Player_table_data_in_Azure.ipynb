{
 "cells": [
  {
   "cell_type": "code",
   "execution_count": 86,
   "metadata": {},
   "outputs": [],
   "source": [
    "# !pip install tqdm # if you face issue related to tqdm\n",
    "import pyodbc\n",
    "import pandas as pd\n",
    "from tqdm import tqdm_notebook as tqdm\n",
    "import numpy as np\n",
    "\n",
    "DATA_LAKE_FOLDER_PATH = \"E:/Google_Drive_Contents/data/Final_data_files/\"\n",
    "\n",
    "# fill the database cred here\n",
    "SERVER = '*'\n",
    "DATABASE = '*'\n",
    "USERNAME = '*'\n",
    "PASSWORD = '*'"
   ]
  },
  {
   "cell_type": "code",
   "execution_count": 39,
   "metadata": {},
   "outputs": [],
   "source": [
    "def get_azure_database_connection(server,database,username,password):\n",
    "    \"\"\"\n",
    "    This function will return an aws conn object for azure SQl Server database.\n",
    "    return : AWS connection object\n",
    "    \"\"\"\n",
    "    cnxn = None\n",
    "    try:\n",
    "        cnxn = pyodbc.connect('DRIVER={SQL Server};SERVER='+server+';DATABASE='+database+';UID='+username+';PWD='+ password)\n",
    "        return cnxn\n",
    "        \n",
    "    except Exception as e:\n",
    "        print(e)"
   ]
  },
  {
   "cell_type": "code",
   "execution_count": 40,
   "metadata": {},
   "outputs": [],
   "source": [
    "player_data = pd.read_json('E:/Google_Drive_Contents/data/Players_information.json')"
   ]
  },
  {
   "cell_type": "code",
   "execution_count": 41,
   "metadata": {},
   "outputs": [
    {
     "data": {
      "text/html": [
       "<div>\n",
       "<style scoped>\n",
       "    .dataframe tbody tr th:only-of-type {\n",
       "        vertical-align: middle;\n",
       "    }\n",
       "\n",
       "    .dataframe tbody tr th {\n",
       "        vertical-align: top;\n",
       "    }\n",
       "\n",
       "    .dataframe thead th {\n",
       "        text-align: right;\n",
       "    }\n",
       "</style>\n",
       "<table border=\"1\" class=\"dataframe\">\n",
       "  <thead>\n",
       "    <tr style=\"text-align: right;\">\n",
       "      <th></th>\n",
       "      <th>Also known as</th>\n",
       "      <th>Batting style</th>\n",
       "      <th>Born</th>\n",
       "      <th>Bowling style</th>\n",
       "      <th>Current age</th>\n",
       "      <th>Education</th>\n",
       "      <th>Fielding position</th>\n",
       "      <th>Full name</th>\n",
       "      <th>Height</th>\n",
       "      <th>In a nutshell</th>\n",
       "      <th>Major teams</th>\n",
       "      <th>Nickname</th>\n",
       "      <th>Other</th>\n",
       "      <th>Playing role</th>\n",
       "      <th>Relation</th>\n",
       "    </tr>\n",
       "  </thead>\n",
       "  <tbody>\n",
       "    <tr>\n",
       "      <th>0</th>\n",
       "      <td>None</td>\n",
       "      <td>Left-hand bat</td>\n",
       "      <td>October 14, 1981, Delhi</td>\n",
       "      <td>Legbreak</td>\n",
       "      <td>38 years 132 days</td>\n",
       "      <td>None</td>\n",
       "      <td>None</td>\n",
       "      <td>Gautam Gambhir</td>\n",
       "      <td>None</td>\n",
       "      <td>India,</td>\n",
       "      <td>None</td>\n",
       "      <td>Top-order batsman</td>\n",
       "      <td>None</td>\n",
       "      <td>None</td>\n",
       "      <td>None</td>\n",
       "    </tr>\n",
       "    <tr>\n",
       "      <th>1</th>\n",
       "      <td>None</td>\n",
       "      <td>Right-hand bat</td>\n",
       "      <td>October 16, 1975, Pinelands, Cape Town, Cape P...</td>\n",
       "      <td>Right-arm fast-medium</td>\n",
       "      <td>44 years 130 days</td>\n",
       "      <td>None</td>\n",
       "      <td>None</td>\n",
       "      <td>Jacques Henry Kallis</td>\n",
       "      <td>None</td>\n",
       "      <td>South Africa,</td>\n",
       "      <td>None</td>\n",
       "      <td>Allrounder</td>\n",
       "      <td>None</td>\n",
       "      <td>None</td>\n",
       "      <td>None</td>\n",
       "    </tr>\n",
       "    <tr>\n",
       "      <th>2</th>\n",
       "      <td>None</td>\n",
       "      <td>Right-hand bat</td>\n",
       "      <td>September 10, 1989, Nainital, Uttaranchal</td>\n",
       "      <td>Right-arm medium</td>\n",
       "      <td>30 years 166 days</td>\n",
       "      <td>None</td>\n",
       "      <td>None</td>\n",
       "      <td>Manish Krishnanand Pandey</td>\n",
       "      <td>None</td>\n",
       "      <td>India,</td>\n",
       "      <td>None</td>\n",
       "      <td>Top-order batsman</td>\n",
       "      <td>None</td>\n",
       "      <td>None</td>\n",
       "      <td>None</td>\n",
       "    </tr>\n",
       "    <tr>\n",
       "      <th>3</th>\n",
       "      <td>None</td>\n",
       "      <td>Right-hand bat</td>\n",
       "      <td>November 11, 1985, Coorg, Karnataka</td>\n",
       "      <td>Right-arm medium</td>\n",
       "      <td>34 years 104 days</td>\n",
       "      <td>None</td>\n",
       "      <td>Occasional wicketkeeper</td>\n",
       "      <td>Robin Venu Uthappa</td>\n",
       "      <td>None</td>\n",
       "      <td>India,</td>\n",
       "      <td>None</td>\n",
       "      <td>Batsman</td>\n",
       "      <td>None</td>\n",
       "      <td>None</td>\n",
       "      <td>None</td>\n",
       "    </tr>\n",
       "    <tr>\n",
       "      <th>4</th>\n",
       "      <td>None</td>\n",
       "      <td>Right-hand bat</td>\n",
       "      <td>November 17, 1982, Baroda, Gujarat</td>\n",
       "      <td>Right-arm offbreak</td>\n",
       "      <td>37 years 98 days</td>\n",
       "      <td>None</td>\n",
       "      <td>None</td>\n",
       "      <td>Yusuf Khan Pathan</td>\n",
       "      <td>None</td>\n",
       "      <td>India,</td>\n",
       "      <td>None</td>\n",
       "      <td>Allrounder</td>\n",
       "      <td>Half-brother - IK Pathan</td>\n",
       "      <td>None</td>\n",
       "      <td>None</td>\n",
       "    </tr>\n",
       "  </tbody>\n",
       "</table>\n",
       "</div>"
      ],
      "text/plain": [
       "  Also known as   Batting style  \\\n",
       "0          None   Left-hand bat   \n",
       "1          None  Right-hand bat   \n",
       "2          None  Right-hand bat   \n",
       "3          None  Right-hand bat   \n",
       "4          None  Right-hand bat   \n",
       "\n",
       "                                                Born          Bowling style  \\\n",
       "0                            October 14, 1981, Delhi               Legbreak   \n",
       "1  October 16, 1975, Pinelands, Cape Town, Cape P...  Right-arm fast-medium   \n",
       "2          September 10, 1989, Nainital, Uttaranchal       Right-arm medium   \n",
       "3                November 11, 1985, Coorg, Karnataka       Right-arm medium   \n",
       "4                 November 17, 1982, Baroda, Gujarat     Right-arm offbreak   \n",
       "\n",
       "         Current age Education        Fielding position  \\\n",
       "0  38 years 132 days      None                     None   \n",
       "1  44 years 130 days      None                     None   \n",
       "2  30 years 166 days      None                     None   \n",
       "3  34 years 104 days      None  Occasional wicketkeeper   \n",
       "4   37 years 98 days      None                     None   \n",
       "\n",
       "                   Full name Height  In a nutshell Major teams  \\\n",
       "0             Gautam Gambhir   None         India,        None   \n",
       "1       Jacques Henry Kallis   None  South Africa,        None   \n",
       "2  Manish Krishnanand Pandey   None         India,        None   \n",
       "3         Robin Venu Uthappa   None         India,        None   \n",
       "4          Yusuf Khan Pathan   None         India,        None   \n",
       "\n",
       "            Nickname                     Other Playing role Relation  \n",
       "0  Top-order batsman                      None         None     None  \n",
       "1         Allrounder                      None         None     None  \n",
       "2  Top-order batsman                      None         None     None  \n",
       "3            Batsman                      None         None     None  \n",
       "4         Allrounder  Half-brother - IK Pathan         None     None  "
      ]
     },
     "execution_count": 41,
     "metadata": {},
     "output_type": "execute_result"
    }
   ],
   "source": [
    "player_data.head()"
   ]
  },
  {
   "cell_type": "code",
   "execution_count": 42,
   "metadata": {},
   "outputs": [
    {
     "name": "stdout",
     "output_type": "stream",
     "text": [
      "<class 'pandas.core.frame.DataFrame'>\n",
      "RangeIndex: 1007 entries, 0 to 1006\n",
      "Data columns (total 15 columns):\n",
      "Also known as        86 non-null object\n",
      "Batting style        1007 non-null object\n",
      "Born                 1007 non-null object\n",
      "Bowling style        921 non-null object\n",
      "Current age          1007 non-null object\n",
      "Education            83 non-null object\n",
      "Fielding position    126 non-null object\n",
      "Full name            1007 non-null object\n",
      "Height               170 non-null object\n",
      "In a nutshell        327 non-null object\n",
      "Major teams          716 non-null object\n",
      "Nickname             430 non-null object\n",
      "Other                56 non-null object\n",
      "Playing role         599 non-null object\n",
      "Relation             108 non-null object\n",
      "dtypes: object(15)\n",
      "memory usage: 118.1+ KB\n"
     ]
    }
   ],
   "source": [
    "player_data.info()"
   ]
  },
  {
   "cell_type": "code",
   "execution_count": 43,
   "metadata": {},
   "outputs": [
    {
     "data": {
      "text/plain": [
       "Also known as        921\n",
       "Batting style          0\n",
       "Born                   0\n",
       "Bowling style         86\n",
       "Current age            0\n",
       "Education            924\n",
       "Fielding position    881\n",
       "Full name              0\n",
       "Height               837\n",
       "In a nutshell        680\n",
       "Major teams          291\n",
       "Nickname             577\n",
       "Other                951\n",
       "Playing role         408\n",
       "Relation             899\n",
       "dtype: int64"
      ]
     },
     "execution_count": 43,
     "metadata": {},
     "output_type": "execute_result"
    }
   ],
   "source": [
    "# let's check hoe many data is missing\n",
    "player_data.isna().sum()"
   ]
  },
  {
   "cell_type": "code",
   "execution_count": 44,
   "metadata": {},
   "outputs": [],
   "source": [
    "# removing extra spaces from all the columns\n",
    "\n",
    "for col in player_data.columns:\n",
    "    player_data[col] = player_data[col].apply(lambda x: str(x).strip())"
   ]
  },
  {
   "cell_type": "code",
   "execution_count": 45,
   "metadata": {},
   "outputs": [
    {
     "data": {
      "text/plain": [
       "(1007, 15)"
      ]
     },
     "execution_count": 45,
     "metadata": {},
     "output_type": "execute_result"
    }
   ],
   "source": [
    "player_data.shape"
   ]
  },
  {
   "cell_type": "code",
   "execution_count": 46,
   "metadata": {},
   "outputs": [],
   "source": [
    "# let's replace None with NaN\n",
    "\n",
    "player_data = player_data.replace('None',np.NaN)"
   ]
  },
  {
   "cell_type": "code",
   "execution_count": 47,
   "metadata": {},
   "outputs": [
    {
     "data": {
      "text/plain": [
       "Also known as        921\n",
       "Batting style          0\n",
       "Born                   0\n",
       "Bowling style         86\n",
       "Current age            0\n",
       "Education            924\n",
       "Fielding position    881\n",
       "Full name              0\n",
       "Height               837\n",
       "In a nutshell        680\n",
       "Major teams          291\n",
       "Nickname             577\n",
       "Other                951\n",
       "Playing role         408\n",
       "Relation             899\n",
       "dtype: int64"
      ]
     },
     "execution_count": 47,
     "metadata": {},
     "output_type": "execute_result"
    }
   ],
   "source": [
    "player_data.isna().sum()"
   ]
  },
  {
   "cell_type": "code",
   "execution_count": 48,
   "metadata": {},
   "outputs": [],
   "source": [
    "# we have to fill NaN values so that we don't get any error when updating values in our Database\n",
    "\n",
    "null_replacement = \"\"\n",
    "\n",
    "player_data.fillna(value=null_replacement,inplace=True)"
   ]
  },
  {
   "cell_type": "code",
   "execution_count": 49,
   "metadata": {},
   "outputs": [],
   "source": [
    "# Now let's enhance our data a little bit\n",
    "\n",
    "from dateparser.search import search_dates\n",
    "\n",
    "# what dateparser does : it extracts date from a given string\n",
    "\n",
    "# we will apply dateParser method to each values\n",
    "\n",
    "def create_birth_day(born):\n",
    "    if len(born) != 0:\n",
    "        birth_info = search_dates(born)[0][0]\n",
    "        return birth_info\n",
    "    else:\n",
    "        return born\n",
    "    \n",
    "player_data['Birthday'] = player_data['Born'].apply(create_birth_day)"
   ]
  },
  {
   "cell_type": "code",
   "execution_count": 50,
   "metadata": {},
   "outputs": [
    {
     "data": {
      "text/plain": [
       "0    October 14, 1981\n",
       "1    October 16, 1975\n",
       "Name: Birthday, dtype: object"
      ]
     },
     "execution_count": 50,
     "metadata": {},
     "output_type": "execute_result"
    }
   ],
   "source": [
    "player_data['Birthday'].head(2)"
   ]
  },
  {
   "cell_type": "code",
   "execution_count": 51,
   "metadata": {},
   "outputs": [],
   "source": [
    "# now let's create age column\n",
    "from datetime import date\n",
    "\n",
    "current_year = int(str(date.today()).split('-')[0])\n",
    "\n",
    "def create_player_age(birthday):\n",
    "    if len(birthday) != 0:\n",
    "        birthday = birthday.strip()\n",
    "        return current_year - int(birthday.split(',')[1].strip())\n",
    "    \n",
    "player_data['age'] = player_data['Birthday'].apply(create_player_age)\n",
    "    "
   ]
  },
  {
   "cell_type": "code",
   "execution_count": 52,
   "metadata": {},
   "outputs": [
    {
     "data": {
      "text/html": [
       "<div>\n",
       "<style scoped>\n",
       "    .dataframe tbody tr th:only-of-type {\n",
       "        vertical-align: middle;\n",
       "    }\n",
       "\n",
       "    .dataframe tbody tr th {\n",
       "        vertical-align: top;\n",
       "    }\n",
       "\n",
       "    .dataframe thead th {\n",
       "        text-align: right;\n",
       "    }\n",
       "</style>\n",
       "<table border=\"1\" class=\"dataframe\">\n",
       "  <thead>\n",
       "    <tr style=\"text-align: right;\">\n",
       "      <th></th>\n",
       "      <th>Also known as</th>\n",
       "      <th>Batting style</th>\n",
       "      <th>Born</th>\n",
       "      <th>Bowling style</th>\n",
       "      <th>Current age</th>\n",
       "      <th>Education</th>\n",
       "      <th>Fielding position</th>\n",
       "      <th>Full name</th>\n",
       "      <th>Height</th>\n",
       "      <th>In a nutshell</th>\n",
       "      <th>Major teams</th>\n",
       "      <th>Nickname</th>\n",
       "      <th>Other</th>\n",
       "      <th>Playing role</th>\n",
       "      <th>Relation</th>\n",
       "      <th>Birthday</th>\n",
       "      <th>age</th>\n",
       "    </tr>\n",
       "  </thead>\n",
       "  <tbody>\n",
       "    <tr>\n",
       "      <th>0</th>\n",
       "      <td></td>\n",
       "      <td>Left-hand bat</td>\n",
       "      <td>October 14, 1981, Delhi</td>\n",
       "      <td>Legbreak</td>\n",
       "      <td>38 years 132 days</td>\n",
       "      <td></td>\n",
       "      <td></td>\n",
       "      <td>Gautam Gambhir</td>\n",
       "      <td></td>\n",
       "      <td>India,</td>\n",
       "      <td></td>\n",
       "      <td>Top-order batsman</td>\n",
       "      <td></td>\n",
       "      <td></td>\n",
       "      <td></td>\n",
       "      <td>October 14, 1981</td>\n",
       "      <td>39</td>\n",
       "    </tr>\n",
       "    <tr>\n",
       "      <th>1</th>\n",
       "      <td></td>\n",
       "      <td>Right-hand bat</td>\n",
       "      <td>October 16, 1975, Pinelands, Cape Town, Cape P...</td>\n",
       "      <td>Right-arm fast-medium</td>\n",
       "      <td>44 years 130 days</td>\n",
       "      <td></td>\n",
       "      <td></td>\n",
       "      <td>Jacques Henry Kallis</td>\n",
       "      <td></td>\n",
       "      <td>South Africa,</td>\n",
       "      <td></td>\n",
       "      <td>Allrounder</td>\n",
       "      <td></td>\n",
       "      <td></td>\n",
       "      <td></td>\n",
       "      <td>October 16, 1975</td>\n",
       "      <td>45</td>\n",
       "    </tr>\n",
       "  </tbody>\n",
       "</table>\n",
       "</div>"
      ],
      "text/plain": [
       "  Also known as   Batting style  \\\n",
       "0                 Left-hand bat   \n",
       "1                Right-hand bat   \n",
       "\n",
       "                                                Born          Bowling style  \\\n",
       "0                            October 14, 1981, Delhi               Legbreak   \n",
       "1  October 16, 1975, Pinelands, Cape Town, Cape P...  Right-arm fast-medium   \n",
       "\n",
       "         Current age Education Fielding position             Full name Height  \\\n",
       "0  38 years 132 days                                    Gautam Gambhir          \n",
       "1  44 years 130 days                              Jacques Henry Kallis          \n",
       "\n",
       "   In a nutshell Major teams           Nickname Other Playing role Relation  \\\n",
       "0         India,              Top-order batsman                               \n",
       "1  South Africa,                     Allrounder                               \n",
       "\n",
       "           Birthday  age  \n",
       "0  October 14, 1981   39  \n",
       "1  October 16, 1975   45  "
      ]
     },
     "execution_count": 52,
     "metadata": {},
     "output_type": "execute_result"
    }
   ],
   "source": [
    "player_data.head(2)"
   ]
  },
  {
   "cell_type": "code",
   "execution_count": 53,
   "metadata": {},
   "outputs": [],
   "source": [
    "player_data.drop('Current age',axis = 1,inplace = True)"
   ]
  },
  {
   "cell_type": "code",
   "execution_count": 54,
   "metadata": {},
   "outputs": [],
   "source": [
    "def extract_birth_place(row):\n",
    "    birthday = row['Birthday']\n",
    "    return row['Born'].strip().split(birthday)[1].strip().replace(',','').strip()\n",
    "    \n",
    "\n",
    "player_data['born_place'] = player_data.apply(extract_birth_place,axis = 1)"
   ]
  },
  {
   "cell_type": "code",
   "execution_count": 55,
   "metadata": {},
   "outputs": [
    {
     "data": {
      "text/html": [
       "<div>\n",
       "<style scoped>\n",
       "    .dataframe tbody tr th:only-of-type {\n",
       "        vertical-align: middle;\n",
       "    }\n",
       "\n",
       "    .dataframe tbody tr th {\n",
       "        vertical-align: top;\n",
       "    }\n",
       "\n",
       "    .dataframe thead th {\n",
       "        text-align: right;\n",
       "    }\n",
       "</style>\n",
       "<table border=\"1\" class=\"dataframe\">\n",
       "  <thead>\n",
       "    <tr style=\"text-align: right;\">\n",
       "      <th></th>\n",
       "      <th>Also known as</th>\n",
       "      <th>Batting style</th>\n",
       "      <th>Born</th>\n",
       "      <th>Bowling style</th>\n",
       "      <th>Education</th>\n",
       "      <th>Fielding position</th>\n",
       "      <th>Full name</th>\n",
       "      <th>Height</th>\n",
       "      <th>In a nutshell</th>\n",
       "      <th>Major teams</th>\n",
       "      <th>Nickname</th>\n",
       "      <th>Other</th>\n",
       "      <th>Playing role</th>\n",
       "      <th>Relation</th>\n",
       "      <th>Birthday</th>\n",
       "      <th>age</th>\n",
       "      <th>born_place</th>\n",
       "    </tr>\n",
       "  </thead>\n",
       "  <tbody>\n",
       "    <tr>\n",
       "      <th>0</th>\n",
       "      <td></td>\n",
       "      <td>Left-hand bat</td>\n",
       "      <td>October 14, 1981, Delhi</td>\n",
       "      <td>Legbreak</td>\n",
       "      <td></td>\n",
       "      <td></td>\n",
       "      <td>Gautam Gambhir</td>\n",
       "      <td></td>\n",
       "      <td>India,</td>\n",
       "      <td></td>\n",
       "      <td>Top-order batsman</td>\n",
       "      <td></td>\n",
       "      <td></td>\n",
       "      <td></td>\n",
       "      <td>October 14, 1981</td>\n",
       "      <td>39</td>\n",
       "      <td>Delhi</td>\n",
       "    </tr>\n",
       "    <tr>\n",
       "      <th>1</th>\n",
       "      <td></td>\n",
       "      <td>Right-hand bat</td>\n",
       "      <td>October 16, 1975, Pinelands, Cape Town, Cape P...</td>\n",
       "      <td>Right-arm fast-medium</td>\n",
       "      <td></td>\n",
       "      <td></td>\n",
       "      <td>Jacques Henry Kallis</td>\n",
       "      <td></td>\n",
       "      <td>South Africa,</td>\n",
       "      <td></td>\n",
       "      <td>Allrounder</td>\n",
       "      <td></td>\n",
       "      <td></td>\n",
       "      <td></td>\n",
       "      <td>October 16, 1975</td>\n",
       "      <td>45</td>\n",
       "      <td>Pinelands Cape Town Cape Province</td>\n",
       "    </tr>\n",
       "    <tr>\n",
       "      <th>2</th>\n",
       "      <td></td>\n",
       "      <td>Right-hand bat</td>\n",
       "      <td>September 10, 1989, Nainital, Uttaranchal</td>\n",
       "      <td>Right-arm medium</td>\n",
       "      <td></td>\n",
       "      <td></td>\n",
       "      <td>Manish Krishnanand Pandey</td>\n",
       "      <td></td>\n",
       "      <td>India,</td>\n",
       "      <td></td>\n",
       "      <td>Top-order batsman</td>\n",
       "      <td></td>\n",
       "      <td></td>\n",
       "      <td></td>\n",
       "      <td>September 10, 1989</td>\n",
       "      <td>31</td>\n",
       "      <td>Nainital Uttaranchal</td>\n",
       "    </tr>\n",
       "    <tr>\n",
       "      <th>3</th>\n",
       "      <td></td>\n",
       "      <td>Right-hand bat</td>\n",
       "      <td>November 11, 1985, Coorg, Karnataka</td>\n",
       "      <td>Right-arm medium</td>\n",
       "      <td></td>\n",
       "      <td>Occasional wicketkeeper</td>\n",
       "      <td>Robin Venu Uthappa</td>\n",
       "      <td></td>\n",
       "      <td>India,</td>\n",
       "      <td></td>\n",
       "      <td>Batsman</td>\n",
       "      <td></td>\n",
       "      <td></td>\n",
       "      <td></td>\n",
       "      <td>November 11, 1985</td>\n",
       "      <td>35</td>\n",
       "      <td>Coorg Karnataka</td>\n",
       "    </tr>\n",
       "    <tr>\n",
       "      <th>4</th>\n",
       "      <td></td>\n",
       "      <td>Right-hand bat</td>\n",
       "      <td>November 17, 1982, Baroda, Gujarat</td>\n",
       "      <td>Right-arm offbreak</td>\n",
       "      <td></td>\n",
       "      <td></td>\n",
       "      <td>Yusuf Khan Pathan</td>\n",
       "      <td></td>\n",
       "      <td>India,</td>\n",
       "      <td></td>\n",
       "      <td>Allrounder</td>\n",
       "      <td>Half-brother - IK Pathan</td>\n",
       "      <td></td>\n",
       "      <td></td>\n",
       "      <td>November 17, 1982</td>\n",
       "      <td>38</td>\n",
       "      <td>Baroda Gujarat</td>\n",
       "    </tr>\n",
       "  </tbody>\n",
       "</table>\n",
       "</div>"
      ],
      "text/plain": [
       "  Also known as   Batting style  \\\n",
       "0                 Left-hand bat   \n",
       "1                Right-hand bat   \n",
       "2                Right-hand bat   \n",
       "3                Right-hand bat   \n",
       "4                Right-hand bat   \n",
       "\n",
       "                                                Born          Bowling style  \\\n",
       "0                            October 14, 1981, Delhi               Legbreak   \n",
       "1  October 16, 1975, Pinelands, Cape Town, Cape P...  Right-arm fast-medium   \n",
       "2          September 10, 1989, Nainital, Uttaranchal       Right-arm medium   \n",
       "3                November 11, 1985, Coorg, Karnataka       Right-arm medium   \n",
       "4                 November 17, 1982, Baroda, Gujarat     Right-arm offbreak   \n",
       "\n",
       "  Education        Fielding position                  Full name Height  \\\n",
       "0                                                Gautam Gambhir          \n",
       "1                                          Jacques Henry Kallis          \n",
       "2                                     Manish Krishnanand Pandey          \n",
       "3            Occasional wicketkeeper         Robin Venu Uthappa          \n",
       "4                                             Yusuf Khan Pathan          \n",
       "\n",
       "   In a nutshell Major teams           Nickname                     Other  \\\n",
       "0         India,              Top-order batsman                             \n",
       "1  South Africa,                     Allrounder                             \n",
       "2         India,              Top-order batsman                             \n",
       "3         India,                        Batsman                             \n",
       "4         India,                     Allrounder  Half-brother - IK Pathan   \n",
       "\n",
       "  Playing role Relation            Birthday  age  \\\n",
       "0                          October 14, 1981   39   \n",
       "1                          October 16, 1975   45   \n",
       "2                        September 10, 1989   31   \n",
       "3                         November 11, 1985   35   \n",
       "4                         November 17, 1982   38   \n",
       "\n",
       "                          born_place  \n",
       "0                              Delhi  \n",
       "1  Pinelands Cape Town Cape Province  \n",
       "2               Nainital Uttaranchal  \n",
       "3                    Coorg Karnataka  \n",
       "4                     Baroda Gujarat  "
      ]
     },
     "execution_count": 55,
     "metadata": {},
     "output_type": "execute_result"
    }
   ],
   "source": [
    "player_data.head()"
   ]
  },
  {
   "cell_type": "code",
   "execution_count": 56,
   "metadata": {},
   "outputs": [],
   "source": [
    "# let's drop some unecessary columns\n",
    "\n",
    "player_data.drop(['Also known as','Education','Height','In a nutshell','Major teams','Relation','Other'],axis = 1,inplace = True)"
   ]
  },
  {
   "cell_type": "code",
   "execution_count": 57,
   "metadata": {},
   "outputs": [
    {
     "data": {
      "text/html": [
       "<div>\n",
       "<style scoped>\n",
       "    .dataframe tbody tr th:only-of-type {\n",
       "        vertical-align: middle;\n",
       "    }\n",
       "\n",
       "    .dataframe tbody tr th {\n",
       "        vertical-align: top;\n",
       "    }\n",
       "\n",
       "    .dataframe thead th {\n",
       "        text-align: right;\n",
       "    }\n",
       "</style>\n",
       "<table border=\"1\" class=\"dataframe\">\n",
       "  <thead>\n",
       "    <tr style=\"text-align: right;\">\n",
       "      <th></th>\n",
       "      <th>Batting style</th>\n",
       "      <th>Born</th>\n",
       "      <th>Bowling style</th>\n",
       "      <th>Fielding position</th>\n",
       "      <th>Full name</th>\n",
       "      <th>Nickname</th>\n",
       "      <th>Playing role</th>\n",
       "      <th>Birthday</th>\n",
       "      <th>age</th>\n",
       "      <th>born_place</th>\n",
       "    </tr>\n",
       "  </thead>\n",
       "  <tbody>\n",
       "    <tr>\n",
       "      <th>0</th>\n",
       "      <td>Left-hand bat</td>\n",
       "      <td>October 14, 1981, Delhi</td>\n",
       "      <td>Legbreak</td>\n",
       "      <td></td>\n",
       "      <td>Gautam Gambhir</td>\n",
       "      <td>Top-order batsman</td>\n",
       "      <td></td>\n",
       "      <td>October 14, 1981</td>\n",
       "      <td>39</td>\n",
       "      <td>Delhi</td>\n",
       "    </tr>\n",
       "    <tr>\n",
       "      <th>376</th>\n",
       "      <td>Left-hand bat</td>\n",
       "      <td>October 14, 1981, Delhi</td>\n",
       "      <td>Legbreak</td>\n",
       "      <td></td>\n",
       "      <td>Gautam Gambhir</td>\n",
       "      <td></td>\n",
       "      <td>Top-order batsman</td>\n",
       "      <td>October 14, 1981</td>\n",
       "      <td>39</td>\n",
       "      <td>Delhi</td>\n",
       "    </tr>\n",
       "    <tr>\n",
       "      <th>718</th>\n",
       "      <td>Left-hand bat</td>\n",
       "      <td>October 14, 1981, Delhi</td>\n",
       "      <td>Legbreak</td>\n",
       "      <td></td>\n",
       "      <td>Gautam Gambhir</td>\n",
       "      <td></td>\n",
       "      <td>Top-order batsman</td>\n",
       "      <td>October 14, 1981</td>\n",
       "      <td>39</td>\n",
       "      <td>Delhi</td>\n",
       "    </tr>\n",
       "    <tr>\n",
       "      <th>881</th>\n",
       "      <td>Left-hand bat</td>\n",
       "      <td>October 14, 1981, Delhi</td>\n",
       "      <td>Legbreak</td>\n",
       "      <td></td>\n",
       "      <td>Gautam Gambhir</td>\n",
       "      <td></td>\n",
       "      <td>Top-order batsman</td>\n",
       "      <td>October 14, 1981</td>\n",
       "      <td>39</td>\n",
       "      <td>Delhi</td>\n",
       "    </tr>\n",
       "  </tbody>\n",
       "</table>\n",
       "</div>"
      ],
      "text/plain": [
       "     Batting style                     Born Bowling style Fielding position  \\\n",
       "0    Left-hand bat  October 14, 1981, Delhi      Legbreak                     \n",
       "376  Left-hand bat  October 14, 1981, Delhi      Legbreak                     \n",
       "718  Left-hand bat  October 14, 1981, Delhi      Legbreak                     \n",
       "881  Left-hand bat  October 14, 1981, Delhi      Legbreak                     \n",
       "\n",
       "          Full name           Nickname       Playing role          Birthday  \\\n",
       "0    Gautam Gambhir  Top-order batsman                     October 14, 1981   \n",
       "376  Gautam Gambhir                     Top-order batsman  October 14, 1981   \n",
       "718  Gautam Gambhir                     Top-order batsman  October 14, 1981   \n",
       "881  Gautam Gambhir                     Top-order batsman  October 14, 1981   \n",
       "\n",
       "     age born_place  \n",
       "0     39      Delhi  \n",
       "376   39      Delhi  \n",
       "718   39      Delhi  \n",
       "881   39      Delhi  "
      ]
     },
     "execution_count": 57,
     "metadata": {},
     "output_type": "execute_result"
    }
   ],
   "source": [
    "filter_  = player_data['Full name'] == 'Gautam Gambhir'\n",
    "player_data[filter_]\n"
   ]
  },
  {
   "cell_type": "code",
   "execution_count": 58,
   "metadata": {},
   "outputs": [],
   "source": [
    "player_data.drop(['Nickname','Born'],axis = 1,inplace=True)"
   ]
  },
  {
   "cell_type": "code",
   "execution_count": 59,
   "metadata": {},
   "outputs": [
    {
     "data": {
      "text/plain": [
       "(561,)"
      ]
     },
     "execution_count": 59,
     "metadata": {},
     "output_type": "execute_result"
    }
   ],
   "source": [
    "player_data['Full name'].unique().shape"
   ]
  },
  {
   "cell_type": "code",
   "execution_count": 60,
   "metadata": {},
   "outputs": [],
   "source": [
    "player_data.replace('',np.nan,inplace=True)"
   ]
  },
  {
   "cell_type": "code",
   "execution_count": 61,
   "metadata": {},
   "outputs": [],
   "source": [
    "player_data = player_data.drop_duplicates() # removing duplicate columns"
   ]
  },
  {
   "cell_type": "code",
   "execution_count": 62,
   "metadata": {},
   "outputs": [],
   "source": [
    "player_name_with_2_col = []\n",
    "\n",
    "for player in player_data['Full name'].unique():\n",
    "    no_of_entries = player_data[player_data['Full name'] == player].shape[0]\n",
    "    if no_of_entries > 1:\n",
    "        player_name_with_2_col.append(player)"
   ]
  },
  {
   "cell_type": "code",
   "execution_count": 63,
   "metadata": {},
   "outputs": [],
   "source": [
    "player_data = player_data[~pd.isna(player_data['Playing role'])]"
   ]
  },
  {
   "cell_type": "code",
   "execution_count": 64,
   "metadata": {},
   "outputs": [
    {
     "data": {
      "text/plain": [
       "(338, 8)"
      ]
     },
     "execution_count": 64,
     "metadata": {},
     "output_type": "execute_result"
    }
   ],
   "source": [
    "player_data.shape"
   ]
  },
  {
   "cell_type": "code",
   "execution_count": 65,
   "metadata": {},
   "outputs": [],
   "source": [
    "player_data.drop(['Fielding position'],axis = 1,inplace=True)"
   ]
  },
  {
   "cell_type": "code",
   "execution_count": 66,
   "metadata": {},
   "outputs": [],
   "source": [
    "player_data.drop(['Birthday'],axis = 1,inplace = True)"
   ]
  },
  {
   "cell_type": "code",
   "execution_count": 67,
   "metadata": {},
   "outputs": [
    {
     "data": {
      "text/html": [
       "<div>\n",
       "<style scoped>\n",
       "    .dataframe tbody tr th:only-of-type {\n",
       "        vertical-align: middle;\n",
       "    }\n",
       "\n",
       "    .dataframe tbody tr th {\n",
       "        vertical-align: top;\n",
       "    }\n",
       "\n",
       "    .dataframe thead th {\n",
       "        text-align: right;\n",
       "    }\n",
       "</style>\n",
       "<table border=\"1\" class=\"dataframe\">\n",
       "  <thead>\n",
       "    <tr style=\"text-align: right;\">\n",
       "      <th></th>\n",
       "      <th>Batting style</th>\n",
       "      <th>Bowling style</th>\n",
       "      <th>Full name</th>\n",
       "      <th>Playing role</th>\n",
       "      <th>age</th>\n",
       "      <th>born_place</th>\n",
       "    </tr>\n",
       "  </thead>\n",
       "  <tbody>\n",
       "    <tr>\n",
       "      <th>321</th>\n",
       "      <td>Left-hand bat</td>\n",
       "      <td>Slow left-arm orthodox</td>\n",
       "      <td>Sanath Teran Jayasuriya</td>\n",
       "      <td>Allrounder</td>\n",
       "      <td>51</td>\n",
       "      <td>Matara</td>\n",
       "    </tr>\n",
       "    <tr>\n",
       "      <th>322</th>\n",
       "      <td>Right-hand bat</td>\n",
       "      <td>Right-arm offbreak, Legbreak googly</td>\n",
       "      <td>Sachin Ramesh Tendulkar</td>\n",
       "      <td>Top-order batsman</td>\n",
       "      <td>47</td>\n",
       "      <td>Bombay (now Mumbai) Maharashtra</td>\n",
       "    </tr>\n",
       "    <tr>\n",
       "      <th>323</th>\n",
       "      <td>Left-hand bat</td>\n",
       "      <td>Right-arm offbreak</td>\n",
       "      <td>Shikhar Dhawan</td>\n",
       "      <td>Opening batsman</td>\n",
       "      <td>35</td>\n",
       "      <td>Delhi</td>\n",
       "    </tr>\n",
       "    <tr>\n",
       "      <th>324</th>\n",
       "      <td>Left-hand bat</td>\n",
       "      <td>Right-arm offbreak</td>\n",
       "      <td>Jean-Paul Duminy</td>\n",
       "      <td>Batting allrounder</td>\n",
       "      <td>36</td>\n",
       "      <td>Strandfontein Cape Town Cape Province</td>\n",
       "    </tr>\n",
       "    <tr>\n",
       "      <th>325</th>\n",
       "      <td>Right-hand bat</td>\n",
       "      <td>Right-arm medium</td>\n",
       "      <td>Dwayne John Bravo</td>\n",
       "      <td>Allrounder</td>\n",
       "      <td>37</td>\n",
       "      <td>Santa Cruz Trinidad</td>\n",
       "    </tr>\n",
       "  </tbody>\n",
       "</table>\n",
       "</div>"
      ],
      "text/plain": [
       "      Batting style                        Bowling style  \\\n",
       "321   Left-hand bat               Slow left-arm orthodox   \n",
       "322  Right-hand bat  Right-arm offbreak, Legbreak googly   \n",
       "323   Left-hand bat                   Right-arm offbreak   \n",
       "324   Left-hand bat                   Right-arm offbreak   \n",
       "325  Right-hand bat                     Right-arm medium   \n",
       "\n",
       "                   Full name        Playing role  age  \\\n",
       "321  Sanath Teran Jayasuriya          Allrounder   51   \n",
       "322  Sachin Ramesh Tendulkar   Top-order batsman   47   \n",
       "323           Shikhar Dhawan     Opening batsman   35   \n",
       "324         Jean-Paul Duminy  Batting allrounder   36   \n",
       "325        Dwayne John Bravo          Allrounder   37   \n",
       "\n",
       "                                born_place  \n",
       "321                                 Matara  \n",
       "322        Bombay (now Mumbai) Maharashtra  \n",
       "323                                  Delhi  \n",
       "324  Strandfontein Cape Town Cape Province  \n",
       "325                    Santa Cruz Trinidad  "
      ]
     },
     "execution_count": 67,
     "metadata": {},
     "output_type": "execute_result"
    }
   ],
   "source": [
    "player_data.head()"
   ]
  },
  {
   "cell_type": "code",
   "execution_count": 68,
   "metadata": {},
   "outputs": [],
   "source": [
    "player_data = player_data[['Full name','age','Playing role','Batting style','Bowling style','born_place']]"
   ]
  },
  {
   "cell_type": "code",
   "execution_count": 69,
   "metadata": {},
   "outputs": [
    {
     "data": {
      "text/html": [
       "<div>\n",
       "<style scoped>\n",
       "    .dataframe tbody tr th:only-of-type {\n",
       "        vertical-align: middle;\n",
       "    }\n",
       "\n",
       "    .dataframe tbody tr th {\n",
       "        vertical-align: top;\n",
       "    }\n",
       "\n",
       "    .dataframe thead th {\n",
       "        text-align: right;\n",
       "    }\n",
       "</style>\n",
       "<table border=\"1\" class=\"dataframe\">\n",
       "  <thead>\n",
       "    <tr style=\"text-align: right;\">\n",
       "      <th></th>\n",
       "      <th>Full name</th>\n",
       "      <th>age</th>\n",
       "      <th>Playing role</th>\n",
       "      <th>Batting style</th>\n",
       "      <th>Bowling style</th>\n",
       "      <th>born_place</th>\n",
       "    </tr>\n",
       "  </thead>\n",
       "  <tbody>\n",
       "    <tr>\n",
       "      <th>321</th>\n",
       "      <td>Sanath Teran Jayasuriya</td>\n",
       "      <td>51</td>\n",
       "      <td>Allrounder</td>\n",
       "      <td>Left-hand bat</td>\n",
       "      <td>Slow left-arm orthodox</td>\n",
       "      <td>Matara</td>\n",
       "    </tr>\n",
       "    <tr>\n",
       "      <th>322</th>\n",
       "      <td>Sachin Ramesh Tendulkar</td>\n",
       "      <td>47</td>\n",
       "      <td>Top-order batsman</td>\n",
       "      <td>Right-hand bat</td>\n",
       "      <td>Right-arm offbreak, Legbreak googly</td>\n",
       "      <td>Bombay (now Mumbai) Maharashtra</td>\n",
       "    </tr>\n",
       "    <tr>\n",
       "      <th>323</th>\n",
       "      <td>Shikhar Dhawan</td>\n",
       "      <td>35</td>\n",
       "      <td>Opening batsman</td>\n",
       "      <td>Left-hand bat</td>\n",
       "      <td>Right-arm offbreak</td>\n",
       "      <td>Delhi</td>\n",
       "    </tr>\n",
       "    <tr>\n",
       "      <th>324</th>\n",
       "      <td>Jean-Paul Duminy</td>\n",
       "      <td>36</td>\n",
       "      <td>Batting allrounder</td>\n",
       "      <td>Left-hand bat</td>\n",
       "      <td>Right-arm offbreak</td>\n",
       "      <td>Strandfontein Cape Town Cape Province</td>\n",
       "    </tr>\n",
       "    <tr>\n",
       "      <th>325</th>\n",
       "      <td>Dwayne John Bravo</td>\n",
       "      <td>37</td>\n",
       "      <td>Allrounder</td>\n",
       "      <td>Right-hand bat</td>\n",
       "      <td>Right-arm medium</td>\n",
       "      <td>Santa Cruz Trinidad</td>\n",
       "    </tr>\n",
       "  </tbody>\n",
       "</table>\n",
       "</div>"
      ],
      "text/plain": [
       "                   Full name  age        Playing role   Batting style  \\\n",
       "321  Sanath Teran Jayasuriya   51          Allrounder   Left-hand bat   \n",
       "322  Sachin Ramesh Tendulkar   47   Top-order batsman  Right-hand bat   \n",
       "323           Shikhar Dhawan   35     Opening batsman   Left-hand bat   \n",
       "324         Jean-Paul Duminy   36  Batting allrounder   Left-hand bat   \n",
       "325        Dwayne John Bravo   37          Allrounder  Right-hand bat   \n",
       "\n",
       "                           Bowling style  \\\n",
       "321               Slow left-arm orthodox   \n",
       "322  Right-arm offbreak, Legbreak googly   \n",
       "323                   Right-arm offbreak   \n",
       "324                   Right-arm offbreak   \n",
       "325                     Right-arm medium   \n",
       "\n",
       "                                born_place  \n",
       "321                                 Matara  \n",
       "322        Bombay (now Mumbai) Maharashtra  \n",
       "323                                  Delhi  \n",
       "324  Strandfontein Cape Town Cape Province  \n",
       "325                    Santa Cruz Trinidad  "
      ]
     },
     "execution_count": 69,
     "metadata": {},
     "output_type": "execute_result"
    }
   ],
   "source": [
    "player_data.head()"
   ]
  },
  {
   "cell_type": "code",
   "execution_count": 70,
   "metadata": {},
   "outputs": [],
   "source": [
    "# Let's save the cleaned data into the datalake folder\n",
    "\n",
    "path_to_final_data_files = \"E:/Google_Drive_Contents/data/Final_data_files/\"\n",
    "\n",
    "player_data.to_csv(path_to_final_data_files+'PlayersInformation.csv',index=False)"
   ]
  },
  {
   "cell_type": "code",
   "execution_count": 81,
   "metadata": {},
   "outputs": [],
   "source": [
    "def insert_data_into_database(db_connection,df):\n",
    "    \"\"\"\n",
    "    This function will insert data into the database row by row.\n",
    "    parameters :\n",
    "    db_connection : database connection object\n",
    "    df : pandas DataFrame which has data\n",
    "    return : None\n",
    "    \"\"\"\n",
    "    try:\n",
    "        \n",
    "         # get the cursor\n",
    "        cur = db_connection.cursor()\n",
    "        for i,row in tqdm(df.iterrows(),total = df.shape[0]):\n",
    "            row_list = list(row) # for easy access\n",
    "            # create insert statment\n",
    "            Insert_Statment = f\"\"\"Insert into ipl_players (full_name,age,playing_role,batting_style,bowling_style,born_place) \n",
    "                values('{row_list[0]}',{row_list[1]},'{row_list[2]}','{row_list[3]}','{row_list[4]}','{row_list[5]}')\"\"\"\n",
    "            \n",
    "#             print(Insert_Statment)\n",
    "\n",
    "            \n",
    "            # execute the query\n",
    "            cur.execute(Insert_Statment)\n",
    "            # commit the connection\n",
    "            db_connection.commit()\n",
    "\n",
    "\n",
    "    except Exception as e:\n",
    "        print(e)"
   ]
  },
  {
   "cell_type": "code",
   "execution_count": 79,
   "metadata": {},
   "outputs": [],
   "source": [
    "db_connection = get_azure_database_connection(SERVER,DATABASE,USERNAME,PASSWORD)"
   ]
  },
  {
   "cell_type": "code",
   "execution_count": 82,
   "metadata": {},
   "outputs": [
    {
     "data": {
      "application/vnd.jupyter.widget-view+json": {
       "model_id": "9428d4f6d4084b2f87405f4d80a6f99c",
       "version_major": 2,
       "version_minor": 0
      },
      "text/plain": [
       "HBox(children=(IntProgress(value=0, max=338), HTML(value='')))"
      ]
     },
     "metadata": {},
     "output_type": "display_data"
    },
    {
     "name": "stdout",
     "output_type": "stream",
     "text": [
      "\n"
     ]
    }
   ],
   "source": [
    "insert_data_into_database(db_connection,player_data)"
   ]
  },
  {
   "cell_type": "code",
   "execution_count": 84,
   "metadata": {},
   "outputs": [],
   "source": [
    "# pd.read_sql('Select * from ipl_players',db_connection)"
   ]
  },
  {
   "cell_type": "code",
   "execution_count": 85,
   "metadata": {},
   "outputs": [],
   "source": [
    "db_connection.close()"
   ]
  },
  {
   "cell_type": "code",
   "execution_count": null,
   "metadata": {},
   "outputs": [],
   "source": []
  },
  {
   "cell_type": "code",
   "execution_count": null,
   "metadata": {},
   "outputs": [],
   "source": []
  }
 ],
 "metadata": {
  "kernelspec": {
   "display_name": "Python 3",
   "language": "python",
   "name": "python3"
  },
  "language_info": {
   "codemirror_mode": {
    "name": "ipython",
    "version": 3
   },
   "file_extension": ".py",
   "mimetype": "text/x-python",
   "name": "python",
   "nbconvert_exporter": "python",
   "pygments_lexer": "ipython3",
   "version": "3.7.3"
  }
 },
 "nbformat": 4,
 "nbformat_minor": 2
}
